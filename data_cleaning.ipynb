{
 "cells": [
  {
   "cell_type": "code",
   "execution_count": 1,
   "id": "4c17b1bc",
   "metadata": {},
   "outputs": [],
   "source": [
    "#importing required libraries\n",
    "import numpy as np\n",
    "import os\n",
    "import glob\n",
    "import pandas as pd  "
   ]
  },
  {
   "cell_type": "code",
   "execution_count": 206,
   "id": "7a2d7552",
   "metadata": {},
   "outputs": [],
   "source": [
    "#importing data set\n",
    "df = pd.read_csv(\"202112-divvy-tripdata.csv\")"
   ]
  },
  {
   "cell_type": "code",
   "execution_count": 207,
   "id": "d4edcd8f",
   "metadata": {},
   "outputs": [
    {
     "name": "stdout",
     "output_type": "stream",
     "text": [
      "<class 'pandas.core.frame.DataFrame'>\n",
      "RangeIndex: 247540 entries, 0 to 247539\n",
      "Data columns (total 13 columns):\n",
      " #   Column              Non-Null Count   Dtype  \n",
      "---  ------              --------------   -----  \n",
      " 0   ride_id             247540 non-null  object \n",
      " 1   rideable_type       247540 non-null  object \n",
      " 2   started_at          247540 non-null  object \n",
      " 3   ended_at            247540 non-null  object \n",
      " 4   start_station_name  196477 non-null  object \n",
      " 5   start_station_id    196477 non-null  object \n",
      " 6   end_station_name    194042 non-null  object \n",
      " 7   end_station_id      194042 non-null  object \n",
      " 8   start_lat           247540 non-null  float64\n",
      " 9   start_lng           247540 non-null  float64\n",
      " 10  end_lat             247396 non-null  float64\n",
      " 11  end_lng             247396 non-null  float64\n",
      " 12  member_casual       247540 non-null  object \n",
      "dtypes: float64(4), object(9)\n",
      "memory usage: 24.6+ MB\n"
     ]
    }
   ],
   "source": [
    "#checking datatypes\n",
    "df.info()"
   ]
  },
  {
   "cell_type": "code",
   "execution_count": 208,
   "id": "324386c7",
   "metadata": {},
   "outputs": [
    {
     "name": "stdout",
     "output_type": "stream",
     "text": [
      "<class 'pandas.core.frame.DataFrame'>\n",
      "Int64Index: 176371 entries, 1 to 247539\n",
      "Data columns (total 13 columns):\n",
      " #   Column              Non-Null Count   Dtype  \n",
      "---  ------              --------------   -----  \n",
      " 0   ride_id             176371 non-null  object \n",
      " 1   rideable_type       176371 non-null  object \n",
      " 2   started_at          176371 non-null  object \n",
      " 3   ended_at            176371 non-null  object \n",
      " 4   start_station_name  176371 non-null  object \n",
      " 5   start_station_id    176371 non-null  object \n",
      " 6   end_station_name    176371 non-null  object \n",
      " 7   end_station_id      176371 non-null  object \n",
      " 8   start_lat           176371 non-null  float64\n",
      " 9   start_lng           176371 non-null  float64\n",
      " 10  end_lat             176371 non-null  float64\n",
      " 11  end_lng             176371 non-null  float64\n",
      " 12  member_casual       176371 non-null  object \n",
      "dtypes: float64(4), object(9)\n",
      "memory usage: 18.8+ MB\n"
     ]
    }
   ],
   "source": [
    "#Deleteing null values\n",
    "df = df.dropna()\n",
    "df.info()"
   ]
  },
  {
   "cell_type": "code",
   "execution_count": 209,
   "id": "bd7f6cbf",
   "metadata": {},
   "outputs": [
    {
     "data": {
      "text/html": [
       "<div>\n",
       "<style scoped>\n",
       "    .dataframe tbody tr th:only-of-type {\n",
       "        vertical-align: middle;\n",
       "    }\n",
       "\n",
       "    .dataframe tbody tr th {\n",
       "        vertical-align: top;\n",
       "    }\n",
       "\n",
       "    .dataframe thead th {\n",
       "        text-align: right;\n",
       "    }\n",
       "</style>\n",
       "<table border=\"1\" class=\"dataframe\">\n",
       "  <thead>\n",
       "    <tr style=\"text-align: right;\">\n",
       "      <th></th>\n",
       "      <th>start_lat</th>\n",
       "      <th>start_lng</th>\n",
       "      <th>end_lat</th>\n",
       "      <th>end_lng</th>\n",
       "    </tr>\n",
       "  </thead>\n",
       "  <tbody>\n",
       "    <tr>\n",
       "      <th>count</th>\n",
       "      <td>176371.000000</td>\n",
       "      <td>176371.000000</td>\n",
       "      <td>176371.000000</td>\n",
       "      <td>176371.000000</td>\n",
       "    </tr>\n",
       "    <tr>\n",
       "      <th>mean</th>\n",
       "      <td>41.900764</td>\n",
       "      <td>-87.644681</td>\n",
       "      <td>41.900875</td>\n",
       "      <td>-87.644919</td>\n",
       "    </tr>\n",
       "    <tr>\n",
       "      <th>std</th>\n",
       "      <td>0.040634</td>\n",
       "      <td>0.023041</td>\n",
       "      <td>0.040650</td>\n",
       "      <td>0.023182</td>\n",
       "    </tr>\n",
       "    <tr>\n",
       "      <th>min</th>\n",
       "      <td>41.648538</td>\n",
       "      <td>-87.830000</td>\n",
       "      <td>41.648501</td>\n",
       "      <td>-87.830000</td>\n",
       "    </tr>\n",
       "    <tr>\n",
       "      <th>25%</th>\n",
       "      <td>41.881006</td>\n",
       "      <td>-87.657596</td>\n",
       "      <td>41.881032</td>\n",
       "      <td>-87.658139</td>\n",
       "    </tr>\n",
       "    <tr>\n",
       "      <th>50%</th>\n",
       "      <td>41.894666</td>\n",
       "      <td>-87.641379</td>\n",
       "      <td>41.894652</td>\n",
       "      <td>-87.641459</td>\n",
       "    </tr>\n",
       "    <tr>\n",
       "      <th>75%</th>\n",
       "      <td>41.924256</td>\n",
       "      <td>-87.629544</td>\n",
       "      <td>41.924632</td>\n",
       "      <td>-87.629544</td>\n",
       "    </tr>\n",
       "    <tr>\n",
       "      <th>max</th>\n",
       "      <td>42.064854</td>\n",
       "      <td>-87.528232</td>\n",
       "      <td>42.064854</td>\n",
       "      <td>-87.528232</td>\n",
       "    </tr>\n",
       "  </tbody>\n",
       "</table>\n",
       "</div>"
      ],
      "text/plain": [
       "           start_lat      start_lng        end_lat        end_lng\n",
       "count  176371.000000  176371.000000  176371.000000  176371.000000\n",
       "mean       41.900764     -87.644681      41.900875     -87.644919\n",
       "std         0.040634       0.023041       0.040650       0.023182\n",
       "min        41.648538     -87.830000      41.648501     -87.830000\n",
       "25%        41.881006     -87.657596      41.881032     -87.658139\n",
       "50%        41.894666     -87.641379      41.894652     -87.641459\n",
       "75%        41.924256     -87.629544      41.924632     -87.629544\n",
       "max        42.064854     -87.528232      42.064854     -87.528232"
      ]
     },
     "execution_count": 209,
     "metadata": {},
     "output_type": "execute_result"
    }
   ],
   "source": [
    "df.describe()"
   ]
  },
  {
   "cell_type": "code",
   "execution_count": 210,
   "id": "ae70b734",
   "metadata": {},
   "outputs": [
    {
     "data": {
      "text/html": [
       "<div>\n",
       "<style scoped>\n",
       "    .dataframe tbody tr th:only-of-type {\n",
       "        vertical-align: middle;\n",
       "    }\n",
       "\n",
       "    .dataframe tbody tr th {\n",
       "        vertical-align: top;\n",
       "    }\n",
       "\n",
       "    .dataframe thead th {\n",
       "        text-align: right;\n",
       "    }\n",
       "</style>\n",
       "<table border=\"1\" class=\"dataframe\">\n",
       "  <thead>\n",
       "    <tr style=\"text-align: right;\">\n",
       "      <th></th>\n",
       "      <th>ride_id</th>\n",
       "      <th>rideable_type</th>\n",
       "      <th>started_at</th>\n",
       "      <th>ended_at</th>\n",
       "      <th>start_station_name</th>\n",
       "      <th>start_station_id</th>\n",
       "      <th>end_station_name</th>\n",
       "      <th>end_station_id</th>\n",
       "      <th>start_lat</th>\n",
       "      <th>start_lng</th>\n",
       "      <th>end_lat</th>\n",
       "      <th>end_lng</th>\n",
       "      <th>member_casual</th>\n",
       "    </tr>\n",
       "  </thead>\n",
       "  <tbody>\n",
       "    <tr>\n",
       "      <th>1</th>\n",
       "      <td>0CD83C3FE35E69A0</td>\n",
       "      <td>classic_bike</td>\n",
       "      <td>12/1/2021 0:00</td>\n",
       "      <td>12/1/2021 0:07</td>\n",
       "      <td>State St &amp; Kinzie St</td>\n",
       "      <td>13050</td>\n",
       "      <td>St. Clair St &amp; Erie St</td>\n",
       "      <td>13016</td>\n",
       "      <td>41.889187</td>\n",
       "      <td>-87.627754</td>\n",
       "      <td>41.894345</td>\n",
       "      <td>-87.622798</td>\n",
       "      <td>casual</td>\n",
       "    </tr>\n",
       "    <tr>\n",
       "      <th>4</th>\n",
       "      <td>5CB387082B4310B2</td>\n",
       "      <td>classic_bike</td>\n",
       "      <td>12/1/2021 0:03</td>\n",
       "      <td>12/1/2021 0:07</td>\n",
       "      <td>Ellis Ave &amp; 60th St</td>\n",
       "      <td>KA1503000014</td>\n",
       "      <td>University Ave &amp; 57th St</td>\n",
       "      <td>KA1503000071</td>\n",
       "      <td>41.785097</td>\n",
       "      <td>-87.601073</td>\n",
       "      <td>41.791478</td>\n",
       "      <td>-87.599861</td>\n",
       "      <td>member</td>\n",
       "    </tr>\n",
       "    <tr>\n",
       "      <th>5</th>\n",
       "      <td>A8830C276991FBBC</td>\n",
       "      <td>classic_bike</td>\n",
       "      <td>12/1/2021 0:04</td>\n",
       "      <td>12/1/2021 0:07</td>\n",
       "      <td>Lake Park Ave &amp; 47th St</td>\n",
       "      <td>TA1308000035</td>\n",
       "      <td>Greenwood Ave &amp; 47th St</td>\n",
       "      <td>TA1308000002</td>\n",
       "      <td>41.809443</td>\n",
       "      <td>-87.591875</td>\n",
       "      <td>41.809835</td>\n",
       "      <td>-87.599383</td>\n",
       "      <td>member</td>\n",
       "    </tr>\n",
       "    <tr>\n",
       "      <th>7</th>\n",
       "      <td>5888E624121F3AF1</td>\n",
       "      <td>electric_bike</td>\n",
       "      <td>12/1/2021 0:05</td>\n",
       "      <td>12/1/2021 0:19</td>\n",
       "      <td>Clark St &amp; Chicago Ave</td>\n",
       "      <td>13303</td>\n",
       "      <td>Ping Tom Park (East)</td>\n",
       "      <td>20260</td>\n",
       "      <td>41.896774</td>\n",
       "      <td>-87.631060</td>\n",
       "      <td>41.860000</td>\n",
       "      <td>-87.630000</td>\n",
       "      <td>member</td>\n",
       "    </tr>\n",
       "    <tr>\n",
       "      <th>8</th>\n",
       "      <td>82CE2ACCE16EE094</td>\n",
       "      <td>classic_bike</td>\n",
       "      <td>12/1/2021 0:05</td>\n",
       "      <td>12/1/2021 0:32</td>\n",
       "      <td>Michigan Ave &amp; Lake St</td>\n",
       "      <td>TA1305000011</td>\n",
       "      <td>DuSable Lake Shore Dr &amp; Diversey Pkwy</td>\n",
       "      <td>TA1309000039</td>\n",
       "      <td>41.886024</td>\n",
       "      <td>-87.624117</td>\n",
       "      <td>41.932588</td>\n",
       "      <td>-87.636427</td>\n",
       "      <td>member</td>\n",
       "    </tr>\n",
       "  </tbody>\n",
       "</table>\n",
       "</div>"
      ],
      "text/plain": [
       "            ride_id  rideable_type      started_at        ended_at  \\\n",
       "1  0CD83C3FE35E69A0   classic_bike  12/1/2021 0:00  12/1/2021 0:07   \n",
       "4  5CB387082B4310B2   classic_bike  12/1/2021 0:03  12/1/2021 0:07   \n",
       "5  A8830C276991FBBC   classic_bike  12/1/2021 0:04  12/1/2021 0:07   \n",
       "7  5888E624121F3AF1  electric_bike  12/1/2021 0:05  12/1/2021 0:19   \n",
       "8  82CE2ACCE16EE094   classic_bike  12/1/2021 0:05  12/1/2021 0:32   \n",
       "\n",
       "        start_station_name start_station_id  \\\n",
       "1     State St & Kinzie St            13050   \n",
       "4      Ellis Ave & 60th St     KA1503000014   \n",
       "5  Lake Park Ave & 47th St     TA1308000035   \n",
       "7   Clark St & Chicago Ave            13303   \n",
       "8   Michigan Ave & Lake St     TA1305000011   \n",
       "\n",
       "                        end_station_name end_station_id  start_lat  start_lng  \\\n",
       "1                 St. Clair St & Erie St          13016  41.889187 -87.627754   \n",
       "4               University Ave & 57th St   KA1503000071  41.785097 -87.601073   \n",
       "5                Greenwood Ave & 47th St   TA1308000002  41.809443 -87.591875   \n",
       "7                   Ping Tom Park (East)          20260  41.896774 -87.631060   \n",
       "8  DuSable Lake Shore Dr & Diversey Pkwy   TA1309000039  41.886024 -87.624117   \n",
       "\n",
       "     end_lat    end_lng member_casual  \n",
       "1  41.894345 -87.622798        casual  \n",
       "4  41.791478 -87.599861        member  \n",
       "5  41.809835 -87.599383        member  \n",
       "7  41.860000 -87.630000        member  \n",
       "8  41.932588 -87.636427        member  "
      ]
     },
     "execution_count": 210,
     "metadata": {},
     "output_type": "execute_result"
    }
   ],
   "source": [
    "df.head()"
   ]
  },
  {
   "cell_type": "code",
   "execution_count": 211,
   "id": "aca07d40",
   "metadata": {},
   "outputs": [],
   "source": [
    "#drooping duplicate values\n",
    "df = df.drop_duplicates()"
   ]
  },
  {
   "cell_type": "code",
   "execution_count": 212,
   "id": "478c22ca",
   "metadata": {},
   "outputs": [
    {
     "name": "stdout",
     "output_type": "stream",
     "text": [
      "<class 'pandas.core.frame.DataFrame'>\n",
      "Int64Index: 176371 entries, 1 to 247539\n",
      "Data columns (total 13 columns):\n",
      " #   Column              Non-Null Count   Dtype  \n",
      "---  ------              --------------   -----  \n",
      " 0   ride_id             176371 non-null  object \n",
      " 1   rideable_type       176371 non-null  object \n",
      " 2   started_at          176371 non-null  object \n",
      " 3   ended_at            176371 non-null  object \n",
      " 4   start_station_name  176371 non-null  object \n",
      " 5   start_station_id    176371 non-null  object \n",
      " 6   end_station_name    176371 non-null  object \n",
      " 7   end_station_id      176371 non-null  object \n",
      " 8   start_lat           176371 non-null  float64\n",
      " 9   start_lng           176371 non-null  float64\n",
      " 10  end_lat             176371 non-null  float64\n",
      " 11  end_lng             176371 non-null  float64\n",
      " 12  member_casual       176371 non-null  object \n",
      "dtypes: float64(4), object(9)\n",
      "memory usage: 18.8+ MB\n"
     ]
    }
   ],
   "source": [
    "df.info()"
   ]
  },
  {
   "cell_type": "code",
   "execution_count": 213,
   "id": "a8e0d9aa",
   "metadata": {},
   "outputs": [],
   "source": [
    "#converting to datetime datatype\n",
    "df['started_at'] = pd.to_datetime(df['started_at'])\n",
    "df['ended_at'] = pd.to_datetime(df['ended_at'])"
   ]
  },
  {
   "cell_type": "code",
   "execution_count": 214,
   "id": "b95c196b",
   "metadata": {},
   "outputs": [],
   "source": [
    "#calculating ride length\n",
    "df['ride_length'] = df['ended_at']-df['started_at']"
   ]
  },
  {
   "cell_type": "code",
   "execution_count": 215,
   "id": "3423c50e",
   "metadata": {},
   "outputs": [],
   "source": [
    "#calculating weekdays\n",
    "df['weekday'] = df['started_at'].apply(lambda x: x.weekday())\n"
   ]
  },
  {
   "cell_type": "code",
   "execution_count": 216,
   "id": "a4feeee4",
   "metadata": {},
   "outputs": [],
   "source": [
    "#dropping unnecessary information\n",
    "df = df.drop(['start_station_id'], axis=1)"
   ]
  },
  {
   "cell_type": "code",
   "execution_count": 217,
   "id": "23ed94f2",
   "metadata": {},
   "outputs": [],
   "source": [
    "df = df.drop(['end_station_id'], axis=1)"
   ]
  },
  {
   "cell_type": "code",
   "execution_count": 218,
   "id": "40a394fb",
   "metadata": {},
   "outputs": [],
   "source": [
    "df = df.drop(['start_lat'], axis=1)"
   ]
  },
  {
   "cell_type": "code",
   "execution_count": 219,
   "id": "534193ca",
   "metadata": {},
   "outputs": [],
   "source": [
    "df = df.drop(['start_lng'], axis=1)"
   ]
  },
  {
   "cell_type": "code",
   "execution_count": 220,
   "id": "4dd5b8ac",
   "metadata": {},
   "outputs": [],
   "source": [
    "df = df.drop(['end_lat'], axis=1)"
   ]
  },
  {
   "cell_type": "code",
   "execution_count": 221,
   "id": "0a3fd590",
   "metadata": {},
   "outputs": [],
   "source": [
    "df = df.drop(['end_lng'], axis=1)"
   ]
  },
  {
   "cell_type": "code",
   "execution_count": 222,
   "id": "fb428789",
   "metadata": {},
   "outputs": [
    {
     "name": "stdout",
     "output_type": "stream",
     "text": [
      "<class 'pandas.core.frame.DataFrame'>\n",
      "Int64Index: 176371 entries, 1 to 247539\n",
      "Data columns (total 9 columns):\n",
      " #   Column              Non-Null Count   Dtype          \n",
      "---  ------              --------------   -----          \n",
      " 0   ride_id             176371 non-null  object         \n",
      " 1   rideable_type       176371 non-null  object         \n",
      " 2   started_at          176371 non-null  datetime64[ns] \n",
      " 3   ended_at            176371 non-null  datetime64[ns] \n",
      " 4   start_station_name  176371 non-null  object         \n",
      " 5   end_station_name    176371 non-null  object         \n",
      " 6   member_casual       176371 non-null  object         \n",
      " 7   ride_length         176371 non-null  timedelta64[ns]\n",
      " 8   weekday             176371 non-null  int64          \n",
      "dtypes: datetime64[ns](2), int64(1), object(5), timedelta64[ns](1)\n",
      "memory usage: 13.5+ MB\n"
     ]
    }
   ],
   "source": [
    "df.info()"
   ]
  },
  {
   "cell_type": "code",
   "execution_count": 223,
   "id": "6ac1dd92",
   "metadata": {},
   "outputs": [],
   "source": [
    "#Exporting to an external csv file\n",
    "df.to_csv('202112.csv')\n"
   ]
  },
  {
   "cell_type": "code",
   "execution_count": 2,
   "id": "7b311ec1",
   "metadata": {},
   "outputs": [],
   "source": [
    "#combining all csv into one csv file\n",
    "# this fill will be used for further analysis of data \n",
    "extension = 'csv'\n",
    "all_filenames = [i for i in glob.glob('*.{}'.format(extension))]"
   ]
  },
  {
   "cell_type": "code",
   "execution_count": 3,
   "id": "8cf57f45",
   "metadata": {},
   "outputs": [],
   "source": [
    "#combine all files in the list\n",
    "combined_df = pd.concat([pd.read_csv(f) for f in all_filenames ])\n",
    "#export to csv\n",
    "combined_df.to_csv( \"combined_df.csv\", index=False, encoding='utf-8-sig')"
   ]
  },
  {
   "cell_type": "code",
   "execution_count": null,
   "id": "ff3aea32",
   "metadata": {},
   "outputs": [],
   "source": []
  }
 ],
 "metadata": {
  "kernelspec": {
   "display_name": "Python 3 (ipykernel)",
   "language": "python",
   "name": "python3"
  },
  "language_info": {
   "codemirror_mode": {
    "name": "ipython",
    "version": 3
   },
   "file_extension": ".py",
   "mimetype": "text/x-python",
   "name": "python",
   "nbconvert_exporter": "python",
   "pygments_lexer": "ipython3",
   "version": "3.9.7"
  }
 },
 "nbformat": 4,
 "nbformat_minor": 5
}
