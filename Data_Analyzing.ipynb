{
 "cells": [
  {
   "cell_type": "code",
   "execution_count": 1,
   "id": "77c69c9f",
   "metadata": {},
   "outputs": [],
   "source": [
    "#Importing required libraries\n",
    "import numpy as np\n",
    "import pandas as pd\n",
    "import matplotlib.pyplot as plt\n",
    "import seaborn as sns"
   ]
  },
  {
   "cell_type": "code",
   "execution_count": 22,
   "id": "9274280e",
   "metadata": {},
   "outputs": [],
   "source": [
    "#reading the csv file\n",
    "df = pd.read_csv('2022yr.csv')"
   ]
  },
  {
   "cell_type": "code",
   "execution_count": 24,
   "id": "a8da231a",
   "metadata": {},
   "outputs": [],
   "source": [
    "#dropping values with negative ride duration\n",
    "df = df.drop(df[df['started_at'] > df['ended_at']].index)"
   ]
  },
  {
   "cell_type": "code",
   "execution_count": 25,
   "id": "bd010570",
   "metadata": {},
   "outputs": [
    {
     "data": {
      "text/html": [
       "<div>\n",
       "<style scoped>\n",
       "    .dataframe tbody tr th:only-of-type {\n",
       "        vertical-align: middle;\n",
       "    }\n",
       "\n",
       "    .dataframe tbody tr th {\n",
       "        vertical-align: top;\n",
       "    }\n",
       "\n",
       "    .dataframe thead th {\n",
       "        text-align: right;\n",
       "    }\n",
       "</style>\n",
       "<table border=\"1\" class=\"dataframe\">\n",
       "  <thead>\n",
       "    <tr style=\"text-align: right;\">\n",
       "      <th></th>\n",
       "      <th>Unnamed: 0</th>\n",
       "      <th>ride_id</th>\n",
       "      <th>rideable_type</th>\n",
       "      <th>started_at</th>\n",
       "      <th>ended_at</th>\n",
       "      <th>start_station_name</th>\n",
       "      <th>end_station_name</th>\n",
       "      <th>member_casual</th>\n",
       "      <th>ride_length</th>\n",
       "      <th>weekday</th>\n",
       "    </tr>\n",
       "  </thead>\n",
       "  <tbody>\n",
       "  </tbody>\n",
       "</table>\n",
       "</div>"
      ],
      "text/plain": [
       "Empty DataFrame\n",
       "Columns: [Unnamed: 0, ride_id, rideable_type, started_at, ended_at, start_station_name, end_station_name, member_casual, ride_length, weekday]\n",
       "Index: []"
      ]
     },
     "execution_count": 25,
     "metadata": {},
     "output_type": "execute_result"
    }
   ],
   "source": [
    "#checking values with negative ride duration\n",
    "df[df['started_at']>df['ended_at']]"
   ]
  },
  {
   "cell_type": "code",
   "execution_count": 26,
   "id": "e88b4c86",
   "metadata": {},
   "outputs": [
    {
     "data": {
      "text/html": [
       "<div>\n",
       "<style scoped>\n",
       "    .dataframe tbody tr th:only-of-type {\n",
       "        vertical-align: middle;\n",
       "    }\n",
       "\n",
       "    .dataframe tbody tr th {\n",
       "        vertical-align: top;\n",
       "    }\n",
       "\n",
       "    .dataframe thead th {\n",
       "        text-align: right;\n",
       "    }\n",
       "</style>\n",
       "<table border=\"1\" class=\"dataframe\">\n",
       "  <thead>\n",
       "    <tr style=\"text-align: right;\">\n",
       "      <th></th>\n",
       "      <th>Unnamed: 0</th>\n",
       "      <th>ride_id</th>\n",
       "      <th>rideable_type</th>\n",
       "      <th>started_at</th>\n",
       "      <th>ended_at</th>\n",
       "      <th>start_station_name</th>\n",
       "      <th>end_station_name</th>\n",
       "      <th>member_casual</th>\n",
       "      <th>ride_length</th>\n",
       "      <th>weekday</th>\n",
       "    </tr>\n",
       "  </thead>\n",
       "  <tbody>\n",
       "    <tr>\n",
       "      <th>0</th>\n",
       "      <td>0</td>\n",
       "      <td>C2F7DD78E82EC875</td>\n",
       "      <td>electric_bike</td>\n",
       "      <td>2022-01-13 11:59:47</td>\n",
       "      <td>2022-01-13 12:02:44</td>\n",
       "      <td>Glenwood Ave &amp; Touhy Ave</td>\n",
       "      <td>Clark St &amp; Touhy Ave</td>\n",
       "      <td>casual</td>\n",
       "      <td>0 days 00:02:57</td>\n",
       "      <td>3</td>\n",
       "    </tr>\n",
       "    <tr>\n",
       "      <th>1</th>\n",
       "      <td>1</td>\n",
       "      <td>A6CF8980A652D272</td>\n",
       "      <td>electric_bike</td>\n",
       "      <td>2022-01-10 08:41:56</td>\n",
       "      <td>2022-01-10 08:46:17</td>\n",
       "      <td>Glenwood Ave &amp; Touhy Ave</td>\n",
       "      <td>Clark St &amp; Touhy Ave</td>\n",
       "      <td>casual</td>\n",
       "      <td>0 days 00:04:21</td>\n",
       "      <td>0</td>\n",
       "    </tr>\n",
       "    <tr>\n",
       "      <th>2</th>\n",
       "      <td>2</td>\n",
       "      <td>BD0F91DFF741C66D</td>\n",
       "      <td>classic_bike</td>\n",
       "      <td>2022-01-25 04:53:40</td>\n",
       "      <td>2022-01-25 04:58:01</td>\n",
       "      <td>Sheffield Ave &amp; Fullerton Ave</td>\n",
       "      <td>Greenview Ave &amp; Fullerton Ave</td>\n",
       "      <td>member</td>\n",
       "      <td>0 days 00:04:21</td>\n",
       "      <td>1</td>\n",
       "    </tr>\n",
       "    <tr>\n",
       "      <th>3</th>\n",
       "      <td>3</td>\n",
       "      <td>CBB80ED419105406</td>\n",
       "      <td>classic_bike</td>\n",
       "      <td>2022-01-04 00:18:04</td>\n",
       "      <td>2022-01-04 00:33:00</td>\n",
       "      <td>Clark St &amp; Bryn Mawr Ave</td>\n",
       "      <td>Paulina St &amp; Montrose Ave</td>\n",
       "      <td>casual</td>\n",
       "      <td>0 days 00:14:56</td>\n",
       "      <td>1</td>\n",
       "    </tr>\n",
       "    <tr>\n",
       "      <th>4</th>\n",
       "      <td>4</td>\n",
       "      <td>DDC963BFDDA51EEA</td>\n",
       "      <td>classic_bike</td>\n",
       "      <td>2022-01-20 01:31:10</td>\n",
       "      <td>2022-01-20 01:37:12</td>\n",
       "      <td>Michigan Ave &amp; Jackson Blvd</td>\n",
       "      <td>State St &amp; Randolph St</td>\n",
       "      <td>member</td>\n",
       "      <td>0 days 00:06:02</td>\n",
       "      <td>3</td>\n",
       "    </tr>\n",
       "  </tbody>\n",
       "</table>\n",
       "</div>"
      ],
      "text/plain": [
       "   Unnamed: 0           ride_id  rideable_type           started_at  \\\n",
       "0           0  C2F7DD78E82EC875  electric_bike  2022-01-13 11:59:47   \n",
       "1           1  A6CF8980A652D272  electric_bike  2022-01-10 08:41:56   \n",
       "2           2  BD0F91DFF741C66D   classic_bike  2022-01-25 04:53:40   \n",
       "3           3  CBB80ED419105406   classic_bike  2022-01-04 00:18:04   \n",
       "4           4  DDC963BFDDA51EEA   classic_bike  2022-01-20 01:31:10   \n",
       "\n",
       "              ended_at             start_station_name  \\\n",
       "0  2022-01-13 12:02:44       Glenwood Ave & Touhy Ave   \n",
       "1  2022-01-10 08:46:17       Glenwood Ave & Touhy Ave   \n",
       "2  2022-01-25 04:58:01  Sheffield Ave & Fullerton Ave   \n",
       "3  2022-01-04 00:33:00       Clark St & Bryn Mawr Ave   \n",
       "4  2022-01-20 01:37:12    Michigan Ave & Jackson Blvd   \n",
       "\n",
       "                end_station_name member_casual      ride_length  weekday  \n",
       "0           Clark St & Touhy Ave        casual  0 days 00:02:57        3  \n",
       "1           Clark St & Touhy Ave        casual  0 days 00:04:21        0  \n",
       "2  Greenview Ave & Fullerton Ave        member  0 days 00:04:21        1  \n",
       "3      Paulina St & Montrose Ave        casual  0 days 00:14:56        1  \n",
       "4         State St & Randolph St        member  0 days 00:06:02        3  "
      ]
     },
     "execution_count": 26,
     "metadata": {},
     "output_type": "execute_result"
    }
   ],
   "source": [
    "df.head()"
   ]
  },
  {
   "cell_type": "code",
   "execution_count": 27,
   "id": "a01e0a94",
   "metadata": {},
   "outputs": [
    {
     "name": "stdout",
     "output_type": "stream",
     "text": [
      "<class 'pandas.core.frame.DataFrame'>\n",
      "Int64Index: 2522113 entries, 0 to 2522130\n",
      "Data columns (total 10 columns):\n",
      " #   Column              Dtype \n",
      "---  ------              ----- \n",
      " 0   Unnamed: 0          int64 \n",
      " 1   ride_id             object\n",
      " 2   rideable_type       object\n",
      " 3   started_at          object\n",
      " 4   ended_at            object\n",
      " 5   start_station_name  object\n",
      " 6   end_station_name    object\n",
      " 7   member_casual       object\n",
      " 8   ride_length         object\n",
      " 9   weekday             int64 \n",
      "dtypes: int64(2), object(8)\n",
      "memory usage: 211.7+ MB\n"
     ]
    }
   ],
   "source": [
    "df.info()"
   ]
  },
  {
   "cell_type": "code",
   "execution_count": 28,
   "id": "528d111c",
   "metadata": {},
   "outputs": [],
   "source": [
    "#dropping unncessary columns\n",
    "df = df.drop(['Unnamed: 0'], axis=1)"
   ]
  },
  {
   "cell_type": "code",
   "execution_count": 29,
   "id": "614d5e1d",
   "metadata": {},
   "outputs": [
    {
     "data": {
      "text/html": [
       "<div>\n",
       "<style scoped>\n",
       "    .dataframe tbody tr th:only-of-type {\n",
       "        vertical-align: middle;\n",
       "    }\n",
       "\n",
       "    .dataframe tbody tr th {\n",
       "        vertical-align: top;\n",
       "    }\n",
       "\n",
       "    .dataframe thead th {\n",
       "        text-align: right;\n",
       "    }\n",
       "</style>\n",
       "<table border=\"1\" class=\"dataframe\">\n",
       "  <thead>\n",
       "    <tr style=\"text-align: right;\">\n",
       "      <th></th>\n",
       "      <th>ride_id</th>\n",
       "      <th>rideable_type</th>\n",
       "      <th>started_at</th>\n",
       "      <th>ended_at</th>\n",
       "      <th>start_station_name</th>\n",
       "      <th>end_station_name</th>\n",
       "      <th>member_casual</th>\n",
       "      <th>ride_length</th>\n",
       "      <th>weekday</th>\n",
       "    </tr>\n",
       "  </thead>\n",
       "  <tbody>\n",
       "    <tr>\n",
       "      <th>0</th>\n",
       "      <td>C2F7DD78E82EC875</td>\n",
       "      <td>electric_bike</td>\n",
       "      <td>2022-01-13 11:59:47</td>\n",
       "      <td>2022-01-13 12:02:44</td>\n",
       "      <td>Glenwood Ave &amp; Touhy Ave</td>\n",
       "      <td>Clark St &amp; Touhy Ave</td>\n",
       "      <td>casual</td>\n",
       "      <td>0 days 00:02:57</td>\n",
       "      <td>3</td>\n",
       "    </tr>\n",
       "    <tr>\n",
       "      <th>1</th>\n",
       "      <td>A6CF8980A652D272</td>\n",
       "      <td>electric_bike</td>\n",
       "      <td>2022-01-10 08:41:56</td>\n",
       "      <td>2022-01-10 08:46:17</td>\n",
       "      <td>Glenwood Ave &amp; Touhy Ave</td>\n",
       "      <td>Clark St &amp; Touhy Ave</td>\n",
       "      <td>casual</td>\n",
       "      <td>0 days 00:04:21</td>\n",
       "      <td>0</td>\n",
       "    </tr>\n",
       "    <tr>\n",
       "      <th>2</th>\n",
       "      <td>BD0F91DFF741C66D</td>\n",
       "      <td>classic_bike</td>\n",
       "      <td>2022-01-25 04:53:40</td>\n",
       "      <td>2022-01-25 04:58:01</td>\n",
       "      <td>Sheffield Ave &amp; Fullerton Ave</td>\n",
       "      <td>Greenview Ave &amp; Fullerton Ave</td>\n",
       "      <td>member</td>\n",
       "      <td>0 days 00:04:21</td>\n",
       "      <td>1</td>\n",
       "    </tr>\n",
       "    <tr>\n",
       "      <th>3</th>\n",
       "      <td>CBB80ED419105406</td>\n",
       "      <td>classic_bike</td>\n",
       "      <td>2022-01-04 00:18:04</td>\n",
       "      <td>2022-01-04 00:33:00</td>\n",
       "      <td>Clark St &amp; Bryn Mawr Ave</td>\n",
       "      <td>Paulina St &amp; Montrose Ave</td>\n",
       "      <td>casual</td>\n",
       "      <td>0 days 00:14:56</td>\n",
       "      <td>1</td>\n",
       "    </tr>\n",
       "    <tr>\n",
       "      <th>4</th>\n",
       "      <td>DDC963BFDDA51EEA</td>\n",
       "      <td>classic_bike</td>\n",
       "      <td>2022-01-20 01:31:10</td>\n",
       "      <td>2022-01-20 01:37:12</td>\n",
       "      <td>Michigan Ave &amp; Jackson Blvd</td>\n",
       "      <td>State St &amp; Randolph St</td>\n",
       "      <td>member</td>\n",
       "      <td>0 days 00:06:02</td>\n",
       "      <td>3</td>\n",
       "    </tr>\n",
       "  </tbody>\n",
       "</table>\n",
       "</div>"
      ],
      "text/plain": [
       "            ride_id  rideable_type           started_at             ended_at  \\\n",
       "0  C2F7DD78E82EC875  electric_bike  2022-01-13 11:59:47  2022-01-13 12:02:44   \n",
       "1  A6CF8980A652D272  electric_bike  2022-01-10 08:41:56  2022-01-10 08:46:17   \n",
       "2  BD0F91DFF741C66D   classic_bike  2022-01-25 04:53:40  2022-01-25 04:58:01   \n",
       "3  CBB80ED419105406   classic_bike  2022-01-04 00:18:04  2022-01-04 00:33:00   \n",
       "4  DDC963BFDDA51EEA   classic_bike  2022-01-20 01:31:10  2022-01-20 01:37:12   \n",
       "\n",
       "              start_station_name               end_station_name member_casual  \\\n",
       "0       Glenwood Ave & Touhy Ave           Clark St & Touhy Ave        casual   \n",
       "1       Glenwood Ave & Touhy Ave           Clark St & Touhy Ave        casual   \n",
       "2  Sheffield Ave & Fullerton Ave  Greenview Ave & Fullerton Ave        member   \n",
       "3       Clark St & Bryn Mawr Ave      Paulina St & Montrose Ave        casual   \n",
       "4    Michigan Ave & Jackson Blvd         State St & Randolph St        member   \n",
       "\n",
       "       ride_length  weekday  \n",
       "0  0 days 00:02:57        3  \n",
       "1  0 days 00:04:21        0  \n",
       "2  0 days 00:04:21        1  \n",
       "3  0 days 00:14:56        1  \n",
       "4  0 days 00:06:02        3  "
      ]
     },
     "execution_count": 29,
     "metadata": {},
     "output_type": "execute_result"
    }
   ],
   "source": [
    "df.head()"
   ]
  },
  {
   "cell_type": "code",
   "execution_count": 30,
   "id": "55864a2f",
   "metadata": {},
   "outputs": [],
   "source": [
    "#usual conversions\n",
    "df['started_at'] = pd.to_datetime(df['started_at'])\n",
    "df['ended_at'] = pd.to_datetime(df['ended_at'])\n",
    "df['ride_length'] = pd.to_timedelta(df['ride_length'])"
   ]
  },
  {
   "cell_type": "code",
   "execution_count": 31,
   "id": "638b33f4",
   "metadata": {},
   "outputs": [
    {
     "name": "stdout",
     "output_type": "stream",
     "text": [
      "<class 'pandas.core.frame.DataFrame'>\n",
      "Int64Index: 2522113 entries, 0 to 2522130\n",
      "Data columns (total 9 columns):\n",
      " #   Column              Dtype          \n",
      "---  ------              -----          \n",
      " 0   ride_id             object         \n",
      " 1   rideable_type       object         \n",
      " 2   started_at          datetime64[ns] \n",
      " 3   ended_at            datetime64[ns] \n",
      " 4   start_station_name  object         \n",
      " 5   end_station_name    object         \n",
      " 6   member_casual       object         \n",
      " 7   ride_length         timedelta64[ns]\n",
      " 8   weekday             int64          \n",
      "dtypes: datetime64[ns](2), int64(1), object(5), timedelta64[ns](1)\n",
      "memory usage: 192.4+ MB\n"
     ]
    }
   ],
   "source": [
    "df.info()"
   ]
  },
  {
   "cell_type": "code",
   "execution_count": 32,
   "id": "f1fd8114",
   "metadata": {},
   "outputs": [],
   "source": [
    "#Converting codes to name of day\n",
    "dict_weeks={0 : 'Monday',1 : 'Tuesday',2 : 'Wednesday',3 : 'Thursday',4 : 'Friday',5 : 'Saturday',6 : 'Sunday'}\n",
    "df['weekday']=df['weekday'].map(dict_weeks)"
   ]
  },
  {
   "cell_type": "code",
   "execution_count": 33,
   "id": "bef648ec",
   "metadata": {},
   "outputs": [
    {
     "data": {
      "text/html": [
       "<div>\n",
       "<style scoped>\n",
       "    .dataframe tbody tr th:only-of-type {\n",
       "        vertical-align: middle;\n",
       "    }\n",
       "\n",
       "    .dataframe tbody tr th {\n",
       "        vertical-align: top;\n",
       "    }\n",
       "\n",
       "    .dataframe thead th {\n",
       "        text-align: right;\n",
       "    }\n",
       "</style>\n",
       "<table border=\"1\" class=\"dataframe\">\n",
       "  <thead>\n",
       "    <tr style=\"text-align: right;\">\n",
       "      <th></th>\n",
       "      <th>ride_id</th>\n",
       "      <th>rideable_type</th>\n",
       "      <th>started_at</th>\n",
       "      <th>ended_at</th>\n",
       "      <th>start_station_name</th>\n",
       "      <th>end_station_name</th>\n",
       "      <th>member_casual</th>\n",
       "      <th>ride_length</th>\n",
       "      <th>weekday</th>\n",
       "    </tr>\n",
       "  </thead>\n",
       "  <tbody>\n",
       "    <tr>\n",
       "      <th>0</th>\n",
       "      <td>C2F7DD78E82EC875</td>\n",
       "      <td>electric_bike</td>\n",
       "      <td>2022-01-13 11:59:47</td>\n",
       "      <td>2022-01-13 12:02:44</td>\n",
       "      <td>Glenwood Ave &amp; Touhy Ave</td>\n",
       "      <td>Clark St &amp; Touhy Ave</td>\n",
       "      <td>casual</td>\n",
       "      <td>0 days 00:02:57</td>\n",
       "      <td>Thursday</td>\n",
       "    </tr>\n",
       "    <tr>\n",
       "      <th>1</th>\n",
       "      <td>A6CF8980A652D272</td>\n",
       "      <td>electric_bike</td>\n",
       "      <td>2022-01-10 08:41:56</td>\n",
       "      <td>2022-01-10 08:46:17</td>\n",
       "      <td>Glenwood Ave &amp; Touhy Ave</td>\n",
       "      <td>Clark St &amp; Touhy Ave</td>\n",
       "      <td>casual</td>\n",
       "      <td>0 days 00:04:21</td>\n",
       "      <td>Monday</td>\n",
       "    </tr>\n",
       "    <tr>\n",
       "      <th>2</th>\n",
       "      <td>BD0F91DFF741C66D</td>\n",
       "      <td>classic_bike</td>\n",
       "      <td>2022-01-25 04:53:40</td>\n",
       "      <td>2022-01-25 04:58:01</td>\n",
       "      <td>Sheffield Ave &amp; Fullerton Ave</td>\n",
       "      <td>Greenview Ave &amp; Fullerton Ave</td>\n",
       "      <td>member</td>\n",
       "      <td>0 days 00:04:21</td>\n",
       "      <td>Tuesday</td>\n",
       "    </tr>\n",
       "    <tr>\n",
       "      <th>3</th>\n",
       "      <td>CBB80ED419105406</td>\n",
       "      <td>classic_bike</td>\n",
       "      <td>2022-01-04 00:18:04</td>\n",
       "      <td>2022-01-04 00:33:00</td>\n",
       "      <td>Clark St &amp; Bryn Mawr Ave</td>\n",
       "      <td>Paulina St &amp; Montrose Ave</td>\n",
       "      <td>casual</td>\n",
       "      <td>0 days 00:14:56</td>\n",
       "      <td>Tuesday</td>\n",
       "    </tr>\n",
       "    <tr>\n",
       "      <th>4</th>\n",
       "      <td>DDC963BFDDA51EEA</td>\n",
       "      <td>classic_bike</td>\n",
       "      <td>2022-01-20 01:31:10</td>\n",
       "      <td>2022-01-20 01:37:12</td>\n",
       "      <td>Michigan Ave &amp; Jackson Blvd</td>\n",
       "      <td>State St &amp; Randolph St</td>\n",
       "      <td>member</td>\n",
       "      <td>0 days 00:06:02</td>\n",
       "      <td>Thursday</td>\n",
       "    </tr>\n",
       "  </tbody>\n",
       "</table>\n",
       "</div>"
      ],
      "text/plain": [
       "            ride_id  rideable_type          started_at            ended_at  \\\n",
       "0  C2F7DD78E82EC875  electric_bike 2022-01-13 11:59:47 2022-01-13 12:02:44   \n",
       "1  A6CF8980A652D272  electric_bike 2022-01-10 08:41:56 2022-01-10 08:46:17   \n",
       "2  BD0F91DFF741C66D   classic_bike 2022-01-25 04:53:40 2022-01-25 04:58:01   \n",
       "3  CBB80ED419105406   classic_bike 2022-01-04 00:18:04 2022-01-04 00:33:00   \n",
       "4  DDC963BFDDA51EEA   classic_bike 2022-01-20 01:31:10 2022-01-20 01:37:12   \n",
       "\n",
       "              start_station_name               end_station_name member_casual  \\\n",
       "0       Glenwood Ave & Touhy Ave           Clark St & Touhy Ave        casual   \n",
       "1       Glenwood Ave & Touhy Ave           Clark St & Touhy Ave        casual   \n",
       "2  Sheffield Ave & Fullerton Ave  Greenview Ave & Fullerton Ave        member   \n",
       "3       Clark St & Bryn Mawr Ave      Paulina St & Montrose Ave        casual   \n",
       "4    Michigan Ave & Jackson Blvd         State St & Randolph St        member   \n",
       "\n",
       "      ride_length   weekday  \n",
       "0 0 days 00:02:57  Thursday  \n",
       "1 0 days 00:04:21    Monday  \n",
       "2 0 days 00:04:21   Tuesday  \n",
       "3 0 days 00:14:56   Tuesday  \n",
       "4 0 days 00:06:02  Thursday  "
      ]
     },
     "execution_count": 33,
     "metadata": {},
     "output_type": "execute_result"
    }
   ],
   "source": [
    "df.head()"
   ]
  },
  {
   "cell_type": "code",
   "execution_count": 34,
   "id": "5ef6498c",
   "metadata": {},
   "outputs": [
    {
     "data": {
      "text/html": [
       "<div>\n",
       "<style scoped>\n",
       "    .dataframe tbody tr th:only-of-type {\n",
       "        vertical-align: middle;\n",
       "    }\n",
       "\n",
       "    .dataframe tbody tr th {\n",
       "        vertical-align: top;\n",
       "    }\n",
       "\n",
       "    .dataframe thead th {\n",
       "        text-align: right;\n",
       "    }\n",
       "</style>\n",
       "<table border=\"1\" class=\"dataframe\">\n",
       "  <thead>\n",
       "    <tr style=\"text-align: right;\">\n",
       "      <th></th>\n",
       "      <th>ride_length</th>\n",
       "    </tr>\n",
       "  </thead>\n",
       "  <tbody>\n",
       "    <tr>\n",
       "      <th>count</th>\n",
       "      <td>2522113</td>\n",
       "    </tr>\n",
       "    <tr>\n",
       "      <th>mean</th>\n",
       "      <td>0 days 00:18:13.411324552</td>\n",
       "    </tr>\n",
       "    <tr>\n",
       "      <th>std</th>\n",
       "      <td>0 days 00:57:34.598260749</td>\n",
       "    </tr>\n",
       "    <tr>\n",
       "      <th>min</th>\n",
       "      <td>0 days 00:00:00</td>\n",
       "    </tr>\n",
       "    <tr>\n",
       "      <th>25%</th>\n",
       "      <td>0 days 00:06:21</td>\n",
       "    </tr>\n",
       "    <tr>\n",
       "      <th>50%</th>\n",
       "      <td>0 days 00:11:12</td>\n",
       "    </tr>\n",
       "    <tr>\n",
       "      <th>75%</th>\n",
       "      <td>0 days 00:20:16</td>\n",
       "    </tr>\n",
       "    <tr>\n",
       "      <th>max</th>\n",
       "      <td>23 days 20:34:04</td>\n",
       "    </tr>\n",
       "  </tbody>\n",
       "</table>\n",
       "</div>"
      ],
      "text/plain": [
       "                     ride_length\n",
       "count                    2522113\n",
       "mean   0 days 00:18:13.411324552\n",
       "std    0 days 00:57:34.598260749\n",
       "min              0 days 00:00:00\n",
       "25%              0 days 00:06:21\n",
       "50%              0 days 00:11:12\n",
       "75%              0 days 00:20:16\n",
       "max             23 days 20:34:04"
      ]
     },
     "execution_count": 34,
     "metadata": {},
     "output_type": "execute_result"
    }
   ],
   "source": [
    "df.describe()"
   ]
  },
  {
   "cell_type": "code",
   "execution_count": 35,
   "id": "f4df9967",
   "metadata": {},
   "outputs": [],
   "source": [
    "#calculating ride length in minutes\n",
    "df['ride_length_in_minutes'] = (df['ride_length'].dt.seconds + df['ride_length'].dt.days * 24 * 3600)/60\n"
   ]
  },
  {
   "cell_type": "code",
   "execution_count": 36,
   "id": "3dad93d8",
   "metadata": {},
   "outputs": [
    {
     "data": {
      "text/html": [
       "<div>\n",
       "<style scoped>\n",
       "    .dataframe tbody tr th:only-of-type {\n",
       "        vertical-align: middle;\n",
       "    }\n",
       "\n",
       "    .dataframe tbody tr th {\n",
       "        vertical-align: top;\n",
       "    }\n",
       "\n",
       "    .dataframe thead th {\n",
       "        text-align: right;\n",
       "    }\n",
       "</style>\n",
       "<table border=\"1\" class=\"dataframe\">\n",
       "  <thead>\n",
       "    <tr style=\"text-align: right;\">\n",
       "      <th></th>\n",
       "      <th>ride_length</th>\n",
       "      <th>ride_length_in_minutes</th>\n",
       "    </tr>\n",
       "  </thead>\n",
       "  <tbody>\n",
       "    <tr>\n",
       "      <th>count</th>\n",
       "      <td>2522113</td>\n",
       "      <td>2.522113e+06</td>\n",
       "    </tr>\n",
       "    <tr>\n",
       "      <th>mean</th>\n",
       "      <td>0 days 00:18:13.411324552</td>\n",
       "      <td>1.822352e+01</td>\n",
       "    </tr>\n",
       "    <tr>\n",
       "      <th>std</th>\n",
       "      <td>0 days 00:57:34.598260749</td>\n",
       "      <td>5.757664e+01</td>\n",
       "    </tr>\n",
       "    <tr>\n",
       "      <th>min</th>\n",
       "      <td>0 days 00:00:00</td>\n",
       "      <td>0.000000e+00</td>\n",
       "    </tr>\n",
       "    <tr>\n",
       "      <th>25%</th>\n",
       "      <td>0 days 00:06:21</td>\n",
       "      <td>6.350000e+00</td>\n",
       "    </tr>\n",
       "    <tr>\n",
       "      <th>50%</th>\n",
       "      <td>0 days 00:11:12</td>\n",
       "      <td>1.120000e+01</td>\n",
       "    </tr>\n",
       "    <tr>\n",
       "      <th>75%</th>\n",
       "      <td>0 days 00:20:16</td>\n",
       "      <td>2.026667e+01</td>\n",
       "    </tr>\n",
       "    <tr>\n",
       "      <th>max</th>\n",
       "      <td>23 days 20:34:04</td>\n",
       "      <td>3.435407e+04</td>\n",
       "    </tr>\n",
       "  </tbody>\n",
       "</table>\n",
       "</div>"
      ],
      "text/plain": [
       "                     ride_length  ride_length_in_minutes\n",
       "count                    2522113            2.522113e+06\n",
       "mean   0 days 00:18:13.411324552            1.822352e+01\n",
       "std    0 days 00:57:34.598260749            5.757664e+01\n",
       "min              0 days 00:00:00            0.000000e+00\n",
       "25%              0 days 00:06:21            6.350000e+00\n",
       "50%              0 days 00:11:12            1.120000e+01\n",
       "75%              0 days 00:20:16            2.026667e+01\n",
       "max             23 days 20:34:04            3.435407e+04"
      ]
     },
     "execution_count": 36,
     "metadata": {},
     "output_type": "execute_result"
    }
   ],
   "source": [
    "df.describe()"
   ]
  },
  {
   "cell_type": "markdown",
   "id": "9d9e03d1",
   "metadata": {},
   "source": [
    "Mean: 18.22 min"
   ]
  },
  {
   "cell_type": "code",
   "execution_count": 37,
   "id": "c845f72c",
   "metadata": {},
   "outputs": [],
   "source": [
    "#EDA starts\n",
    "\n",
    "median_ride_length = df['ride_length_in_minutes'].median()\n",
    "mode_weekday = df['weekday'].mode()"
   ]
  },
  {
   "cell_type": "code",
   "execution_count": 40,
   "id": "4fa40d76",
   "metadata": {},
   "outputs": [
    {
     "data": {
      "text/plain": [
       "11.2"
      ]
     },
     "execution_count": 40,
     "metadata": {},
     "output_type": "execute_result"
    }
   ],
   "source": [
    "median_ride_length"
   ]
  },
  {
   "cell_type": "code",
   "execution_count": 41,
   "id": "b95ca76d",
   "metadata": {},
   "outputs": [
    {
     "data": {
      "text/plain": [
       "0    Saturday\n",
       "Name: weekday, dtype: object"
      ]
     },
     "execution_count": 41,
     "metadata": {},
     "output_type": "execute_result"
    }
   ],
   "source": [
    "mode_weekday"
   ]
  },
  {
   "cell_type": "markdown",
   "id": "7d4643da",
   "metadata": {},
   "source": [
    "\n",
    "People tend to ride most in Saturday.\n",
    "\n",
    "There is a noticeable amount of variation in median and mean of ride lengths indicating that riding lengths vary quite significantly. There is no symmetric plot."
   ]
  },
  {
   "cell_type": "code",
   "execution_count": 46,
   "id": "29b5ffce",
   "metadata": {},
   "outputs": [
    {
     "data": {
      "text/plain": [
       "<seaborn.axisgrid.FacetGrid at 0x29a4da8b520>"
      ]
     },
     "execution_count": 46,
     "metadata": {},
     "output_type": "execute_result"
    },
    {
     "data": {
      "image/png": "[encoded data removed]",
      "text/plain": [
       "<Figure size 500x500 with 1 Axes>"
      ]
     },
     "metadata": {},
     "output_type": "display_data"
    }
   ],
   "source": [
    "sns.set_style('whitegrid')\n",
    "sns.displot(df['weekday'], kde = False, color ='red')"
   ]
  },
  {
   "cell_type": "markdown",
   "id": "662d6984",
   "metadata": {},
   "source": [
    "Just testing the graphs. All the plots will be made by using Tableau as it is simply better at this job."
   ]
  },
  {
   "cell_type": "code",
   "execution_count": 47,
   "id": "07e7ce7f",
   "metadata": {},
   "outputs": [
    {
     "data": {
      "text/plain": [
       "Timedelta('0 days 00:12:47.182500209')"
      ]
     },
     "execution_count": 47,
     "metadata": {},
     "output_type": "execute_result"
    }
   ],
   "source": [
    "#Mean ride length for members\n",
    "df[df['member_casual']=='member'].ride_length.mean()"
   ]
  },
  {
   "cell_type": "code",
   "execution_count": 48,
   "id": "ae0fb60d",
   "metadata": {},
   "outputs": [
    {
     "data": {
      "text/plain": [
       "Timedelta('0 days 00:25:47.989169301')"
      ]
     },
     "execution_count": 48,
     "metadata": {},
     "output_type": "execute_result"
    }
   ],
   "source": [
    "#Mean ride length for casuals\n",
    "df[df['member_casual']=='casual'].ride_length.mean()"
   ]
  },
  {
   "cell_type": "markdown",
   "id": "370fbed5",
   "metadata": {},
   "source": [
    "Casuals are riding way longer than members. While casuals may ride for longer distances (vacations) and hence increased trip duration. For members, the usage is typically limited to shorter distances. Members use this for daily trips (office/university to home) and this explains the increased time difference."
   ]
  },
  {
   "cell_type": "code",
   "execution_count": 49,
   "id": "84fef67e",
   "metadata": {},
   "outputs": [
    {
     "data": {
      "text/plain": [
       "Timedelta('0 days 00:09:14')"
      ]
     },
     "execution_count": 49,
     "metadata": {},
     "output_type": "execute_result"
    }
   ],
   "source": [
    "#Median_members\n",
    "df[df['member_casual']=='member'].ride_length.median()"
   ]
  },
  {
   "cell_type": "code",
   "execution_count": 50,
   "id": "9e748cec",
   "metadata": {},
   "outputs": [
    {
     "data": {
      "text/plain": [
       "Timedelta('0 days 00:14:59')"
      ]
     },
     "execution_count": 50,
     "metadata": {},
     "output_type": "execute_result"
    }
   ],
   "source": [
    "#Median_casuals\n",
    "df[df['member_casual']=='casual'].ride_length.median()"
   ]
  },
  {
   "cell_type": "markdown",
   "id": "e7bbcbaf",
   "metadata": {},
   "source": [
    "Median also tells the same story"
   ]
  },
  {
   "cell_type": "code",
   "execution_count": 61,
   "id": "05fb7aca",
   "metadata": {},
   "outputs": [
    {
     "data": {
      "text/html": [
       "<div>\n",
       "<style scoped>\n",
       "    .dataframe tbody tr th:only-of-type {\n",
       "        vertical-align: middle;\n",
       "    }\n",
       "\n",
       "    .dataframe tbody tr th {\n",
       "        vertical-align: top;\n",
       "    }\n",
       "\n",
       "    .dataframe thead th {\n",
       "        text-align: right;\n",
       "    }\n",
       "</style>\n",
       "<table border=\"1\" class=\"dataframe\">\n",
       "  <thead>\n",
       "    <tr style=\"text-align: right;\">\n",
       "      <th></th>\n",
       "      <th>ride_id</th>\n",
       "      <th>rideable_type</th>\n",
       "      <th>started_at</th>\n",
       "      <th>ended_at</th>\n",
       "      <th>start_station_name</th>\n",
       "      <th>end_station_name</th>\n",
       "      <th>member_casual</th>\n",
       "      <th>ride_length</th>\n",
       "      <th>ride_length_in_minutes</th>\n",
       "    </tr>\n",
       "    <tr>\n",
       "      <th>weekday</th>\n",
       "      <th></th>\n",
       "      <th></th>\n",
       "      <th></th>\n",
       "      <th></th>\n",
       "      <th></th>\n",
       "      <th></th>\n",
       "      <th></th>\n",
       "      <th></th>\n",
       "      <th></th>\n",
       "    </tr>\n",
       "  </thead>\n",
       "  <tbody>\n",
       "    <tr>\n",
       "      <th>Friday</th>\n",
       "      <td>72DC25B2DD467EEF</td>\n",
       "      <td>classic_bike</td>\n",
       "      <td>2022-01-28 15:27:53</td>\n",
       "      <td>2022-01-28 15:35:16</td>\n",
       "      <td>LaSalle St &amp; Jackson Blvd</td>\n",
       "      <td>Clinton St &amp; Washington Blvd</td>\n",
       "      <td>member</td>\n",
       "      <td>0 days 00:07:23</td>\n",
       "      <td>7.383333</td>\n",
       "    </tr>\n",
       "    <tr>\n",
       "      <th>Monday</th>\n",
       "      <td>A6CF8980A652D272</td>\n",
       "      <td>electric_bike</td>\n",
       "      <td>2022-01-10 08:41:56</td>\n",
       "      <td>2022-01-10 08:46:17</td>\n",
       "      <td>Glenwood Ave &amp; Touhy Ave</td>\n",
       "      <td>Clark St &amp; Touhy Ave</td>\n",
       "      <td>casual</td>\n",
       "      <td>0 days 00:04:21</td>\n",
       "      <td>4.350000</td>\n",
       "    </tr>\n",
       "    <tr>\n",
       "      <th>Saturday</th>\n",
       "      <td>81751A3186E59A6B</td>\n",
       "      <td>classic_bike</td>\n",
       "      <td>2022-01-22 12:20:02</td>\n",
       "      <td>2022-01-22 12:32:06</td>\n",
       "      <td>Sheffield Ave &amp; Fullerton Ave</td>\n",
       "      <td>Damen Ave &amp; Clybourn Ave</td>\n",
       "      <td>member</td>\n",
       "      <td>0 days 00:12:04</td>\n",
       "      <td>12.066667</td>\n",
       "    </tr>\n",
       "    <tr>\n",
       "      <th>Sunday</th>\n",
       "      <td>BDC4AB637EDF981B</td>\n",
       "      <td>classic_bike</td>\n",
       "      <td>2022-01-30 18:32:52</td>\n",
       "      <td>2022-01-30 18:49:26</td>\n",
       "      <td>Oakley Ave &amp; Irving Park Rd</td>\n",
       "      <td>Broadway &amp; Sheridan Rd</td>\n",
       "      <td>member</td>\n",
       "      <td>0 days 00:16:34</td>\n",
       "      <td>16.566667</td>\n",
       "    </tr>\n",
       "    <tr>\n",
       "      <th>Thursday</th>\n",
       "      <td>C2F7DD78E82EC875</td>\n",
       "      <td>electric_bike</td>\n",
       "      <td>2022-01-13 11:59:47</td>\n",
       "      <td>2022-01-13 12:02:44</td>\n",
       "      <td>Glenwood Ave &amp; Touhy Ave</td>\n",
       "      <td>Clark St &amp; Touhy Ave</td>\n",
       "      <td>casual</td>\n",
       "      <td>0 days 00:02:57</td>\n",
       "      <td>2.950000</td>\n",
       "    </tr>\n",
       "    <tr>\n",
       "      <th>Tuesday</th>\n",
       "      <td>BD0F91DFF741C66D</td>\n",
       "      <td>classic_bike</td>\n",
       "      <td>2022-01-25 04:53:40</td>\n",
       "      <td>2022-01-25 04:58:01</td>\n",
       "      <td>Sheffield Ave &amp; Fullerton Ave</td>\n",
       "      <td>Greenview Ave &amp; Fullerton Ave</td>\n",
       "      <td>member</td>\n",
       "      <td>0 days 00:04:21</td>\n",
       "      <td>4.350000</td>\n",
       "    </tr>\n",
       "    <tr>\n",
       "      <th>Wednesday</th>\n",
       "      <td>0AA241497B970400</td>\n",
       "      <td>classic_bike</td>\n",
       "      <td>2022-01-12 14:09:13</td>\n",
       "      <td>2022-01-12 14:10:53</td>\n",
       "      <td>LaSalle St &amp; Jackson Blvd</td>\n",
       "      <td>Clark St &amp; Ida B Wells Dr</td>\n",
       "      <td>member</td>\n",
       "      <td>0 days 00:01:40</td>\n",
       "      <td>1.666667</td>\n",
       "    </tr>\n",
       "  </tbody>\n",
       "</table>\n",
       "</div>"
      ],
      "text/plain": [
       "                    ride_id  rideable_type          started_at  \\\n",
       "weekday                                                          \n",
       "Friday     72DC25B2DD467EEF   classic_bike 2022-01-28 15:27:53   \n",
       "Monday     A6CF8980A652D272  electric_bike 2022-01-10 08:41:56   \n",
       "Saturday   81751A3186E59A6B   classic_bike 2022-01-22 12:20:02   \n",
       "Sunday     BDC4AB637EDF981B   classic_bike 2022-01-30 18:32:52   \n",
       "Thursday   C2F7DD78E82EC875  electric_bike 2022-01-13 11:59:47   \n",
       "Tuesday    BD0F91DFF741C66D   classic_bike 2022-01-25 04:53:40   \n",
       "Wednesday  0AA241497B970400   classic_bike 2022-01-12 14:09:13   \n",
       "\n",
       "                     ended_at             start_station_name  \\\n",
       "weekday                                                        \n",
       "Friday    2022-01-28 15:35:16      LaSalle St & Jackson Blvd   \n",
       "Monday    2022-01-10 08:46:17       Glenwood Ave & Touhy Ave   \n",
       "Saturday  2022-01-22 12:32:06  Sheffield Ave & Fullerton Ave   \n",
       "Sunday    2022-01-30 18:49:26    Oakley Ave & Irving Park Rd   \n",
       "Thursday  2022-01-13 12:02:44       Glenwood Ave & Touhy Ave   \n",
       "Tuesday   2022-01-25 04:58:01  Sheffield Ave & Fullerton Ave   \n",
       "Wednesday 2022-01-12 14:10:53      LaSalle St & Jackson Blvd   \n",
       "\n",
       "                        end_station_name member_casual     ride_length  \\\n",
       "weekday                                                                  \n",
       "Friday      Clinton St & Washington Blvd        member 0 days 00:07:23   \n",
       "Monday              Clark St & Touhy Ave        casual 0 days 00:04:21   \n",
       "Saturday        Damen Ave & Clybourn Ave        member 0 days 00:12:04   \n",
       "Sunday            Broadway & Sheridan Rd        member 0 days 00:16:34   \n",
       "Thursday            Clark St & Touhy Ave        casual 0 days 00:02:57   \n",
       "Tuesday    Greenview Ave & Fullerton Ave        member 0 days 00:04:21   \n",
       "Wednesday      Clark St & Ida B Wells Dr        member 0 days 00:01:40   \n",
       "\n",
       "           ride_length_in_minutes  \n",
       "weekday                            \n",
       "Friday                   7.383333  \n",
       "Monday                   4.350000  \n",
       "Saturday                12.066667  \n",
       "Sunday                  16.566667  \n",
       "Thursday                 2.950000  \n",
       "Tuesday                  4.350000  \n",
       "Wednesday                1.666667  "
      ]
     },
     "execution_count": 61,
     "metadata": {},
     "output_type": "execute_result"
    }
   ],
   "source": [
    "#Grouping data by weekdays\n",
    "df2=df.groupby('weekday')\n",
    "df2.first()"
   ]
  },
  {
   "cell_type": "code",
   "execution_count": 62,
   "id": "41f3a744",
   "metadata": {},
   "outputs": [
    {
     "data": {
      "text/plain": [
       "weekday    member_casual\n",
       "Friday     casual          0 days 00:23:26.746262374\n",
       "           member          0 days 00:12:22.739627527\n",
       "Monday     casual          0 days 00:27:16.110117396\n",
       "           member          0 days 00:12:26.386259266\n",
       "Saturday   casual          0 days 00:28:26.361634881\n",
       "           member          0 days 00:14:24.280067836\n",
       "Sunday     casual          0 days 00:28:54.564607637\n",
       "           member          0 days 00:14:18.970566727\n",
       "Thursday   casual          0 days 00:23:10.761626614\n",
       "           member          0 days 00:12:20.816354299\n",
       "Tuesday    casual          0 days 00:23:02.318159429\n",
       "           member          0 days 00:12:01.843053062\n",
       "Wednesday  casual          0 days 00:22:21.949765625\n",
       "           member          0 days 00:12:03.958548531\n",
       "Name: ride_length, dtype: timedelta64[ns]"
      ]
     },
     "execution_count": 62,
     "metadata": {},
     "output_type": "execute_result"
    }
   ],
   "source": [
    "#Mean ride lengths by weekdays for casual and members\n",
    "df.groupby(['weekday','member_casual']).ride_length.mean()"
   ]
  },
  {
   "cell_type": "markdown",
   "id": "334b8dff",
   "metadata": {},
   "source": [
    "People tend to ride for more durations during weekends"
   ]
  },
  {
   "cell_type": "code",
   "execution_count": 63,
   "id": "69b336bd",
   "metadata": {},
   "outputs": [
    {
     "data": {
      "text/plain": [
       "weekday\n",
       "Friday       333185\n",
       "Monday       340387\n",
       "Saturday     417329\n",
       "Sunday       378095\n",
       "Thursday     365671\n",
       "Tuesday      347453\n",
       "Wednesday    339993\n",
       "Name: ride_id, dtype: int64"
      ]
     },
     "execution_count": 63,
     "metadata": {},
     "output_type": "execute_result"
    }
   ],
   "source": [
    "#no. of trips per day for member and casual\n",
    "\n",
    "df.groupby(['weekday']).ride_id.count()"
   ]
  },
  {
   "cell_type": "markdown",
   "id": "acbc2597",
   "metadata": {},
   "source": [
    "People tend to ride more during weekends"
   ]
  },
  {
   "cell_type": "code",
   "execution_count": 64,
   "id": "779115ba",
   "metadata": {},
   "outputs": [],
   "source": [
    "#extracting months\n",
    "df['month'] = pd.DatetimeIndex(df['started_at']).month"
   ]
  },
  {
   "cell_type": "code",
   "execution_count": 65,
   "id": "13a2f515",
   "metadata": {},
   "outputs": [
    {
     "data": {
      "text/plain": [
       "month\n",
       "1     80128\n",
       "2     89178\n",
       "3    215981\n",
       "4    272560\n",
       "5    502545\n",
       "6    620348\n",
       "7    642666\n",
       "8     98707\n",
       "Name: ride_id, dtype: int64"
      ]
     },
     "execution_count": 65,
     "metadata": {},
     "output_type": "execute_result"
    }
   ],
   "source": [
    "#grouping data by months\n",
    "df.groupby(['month']).ride_id.count()"
   ]
  },
  {
   "cell_type": "markdown",
   "id": "e2953aca",
   "metadata": {},
   "source": [
    "During cold months, people tend to ride less as compared to warm months"
   ]
  },
  {
   "cell_type": "code",
   "execution_count": 66,
   "id": "08196772",
   "metadata": {},
   "outputs": [
    {
     "data": {
      "text/plain": [
       "month  member_casual\n",
       "1      casual            12605\n",
       "       member            67523\n",
       "2      casual            15144\n",
       "       member            74034\n",
       "3      casual            67154\n",
       "       member           148827\n",
       "4      casual            91897\n",
       "       member           180663\n",
       "5      casual           220246\n",
       "       member           282299\n",
       "6      casual           292067\n",
       "       member           328281\n",
       "7      casual           311670\n",
       "       member           330996\n",
       "8      casual            42981\n",
       "       member            55726\n",
       "Name: ride_id, dtype: int64"
      ]
     },
     "execution_count": 66,
     "metadata": {},
     "output_type": "execute_result"
    }
   ],
   "source": [
    "#no. of trips by months for casual and members\n",
    "df.groupby(['month','member_casual']).ride_id.count()"
   ]
  },
  {
   "cell_type": "markdown",
   "id": "3fc6445d",
   "metadata": {},
   "source": [
    "The disparity in ride numbers between casuals and members is seen during cold months. In warm months, very minimal disparity is shown."
   ]
  },
  {
   "cell_type": "code",
   "execution_count": 67,
   "id": "22332cab",
   "metadata": {},
   "outputs": [
    {
     "data": {
      "text/plain": [
       "rideable_type  member_casual\n",
       "classic_bike   casual            569044\n",
       "               member           1004335\n",
       "docked_bike    casual            113037\n",
       "electric_bike  casual            371683\n",
       "               member            464014\n",
       "Name: ride_id, dtype: int64"
      ]
     },
     "execution_count": 67,
     "metadata": {},
     "output_type": "execute_result"
    }
   ],
   "source": [
    "#no. of rides per category for casual and members\n",
    "df.groupby(['rideable_type','member_casual']).ride_id.count()"
   ]
  },
  {
   "cell_type": "markdown",
   "id": "adadaabe",
   "metadata": {},
   "source": [
    "Most preffered type of bike is classical bike among both casuals and members.\n",
    "Least preffered is docked bike."
   ]
  },
  {
   "cell_type": "code",
   "execution_count": 68,
   "id": "7622d18c",
   "metadata": {},
   "outputs": [],
   "source": [
    "df['Hour'] = df['started_at'].dt.hour"
   ]
  },
  {
   "cell_type": "code",
   "execution_count": 69,
   "id": "177a887d",
   "metadata": {},
   "outputs": [
    {
     "data": {
      "text/plain": [
       "Hour\n",
       "0      33733\n",
       "1      20783\n",
       "2      12043\n",
       "3       7020\n",
       "4       6289\n",
       "5      20160\n",
       "6      53310\n",
       "7     100139\n",
       "8     120036\n",
       "9      92906\n",
       "10    100023\n",
       "11    126367\n",
       "12    147150\n",
       "13    149148\n",
       "14    152671\n",
       "15    174565\n",
       "16    220533\n",
       "17    261822\n",
       "18    219663\n",
       "19    163824\n",
       "20    118095\n",
       "21     93675\n",
       "22     75908\n",
       "23     52250\n",
       "Name: ride_id, dtype: int64"
      ]
     },
     "execution_count": 69,
     "metadata": {},
     "output_type": "execute_result"
    }
   ],
   "source": [
    "df.groupby(['Hour']).ride_id.count()"
   ]
  },
  {
   "cell_type": "code",
   "execution_count": 70,
   "id": "ca66c8a5",
   "metadata": {},
   "outputs": [
    {
     "name": "stdout",
     "output_type": "stream",
     "text": [
      "<class 'pandas.core.frame.DataFrame'>\n",
      "Int64Index: 2522113 entries, 0 to 2522130\n",
      "Data columns (total 12 columns):\n",
      " #   Column                  Dtype          \n",
      "---  ------                  -----          \n",
      " 0   ride_id                 object         \n",
      " 1   rideable_type           object         \n",
      " 2   started_at              datetime64[ns] \n",
      " 3   ended_at                datetime64[ns] \n",
      " 4   start_station_name      object         \n",
      " 5   end_station_name        object         \n",
      " 6   member_casual           object         \n",
      " 7   ride_length             timedelta64[ns]\n",
      " 8   weekday                 object         \n",
      " 9   ride_length_in_minutes  float64        \n",
      " 10  month                   int64          \n",
      " 11  Hour                    int64          \n",
      "dtypes: datetime64[ns](2), float64(1), int64(2), object(6), timedelta64[ns](1)\n",
      "memory usage: 250.1+ MB\n"
     ]
    }
   ],
   "source": [
    "df.info()"
   ]
  },
  {
   "cell_type": "code",
   "execution_count": 71,
   "id": "86a3f6bf",
   "metadata": {},
   "outputs": [],
   "source": [
    "#finalized data for tableau visualization\n",
    "df.to_csv('Finalized.csv')\n"
   ]
  },
  {
   "cell_type": "code",
   "execution_count": null,
   "id": "2d331873",
   "metadata": {},
   "outputs": [],
   "source": []
  }
 ],
 "metadata": {
  "kernelspec": {
   "display_name": "Python 3 (ipykernel)",
   "language": "python",
   "name": "python3"
  },
  "language_info": {
   "codemirror_mode": {
    "name": "ipython",
    "version": 3
   },
   "file_extension": ".py",
   "mimetype": "text/x-python",
   "name": "python",
   "nbconvert_exporter": "python",
   "pygments_lexer": "ipython3",
   "version": "3.10.9"
  }
 },
 "nbformat": 4,
 "nbformat_minor": 5
}
