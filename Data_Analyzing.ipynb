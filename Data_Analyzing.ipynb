{
 "cells": [
  {
   "cell_type": "code",
   "execution_count": 1,
   "id": "77c69c9f",
   "metadata": {},
   "outputs": [],
   "source": [
    "#Importing required libraries\n",
    "import numpy as np\n",
    "import pandas as pd\n",
    "import matplotlib.pyplot as plt\n",
    "import os"
   ]
  },
  {
   "cell_type": "code",
   "execution_count": 2,
   "id": "9274280e",
   "metadata": {},
   "outputs": [],
   "source": [
    "#reading the csv file\n",
    "df = pd.read_csv(\"combined_df.csv\")"
   ]
  },
  {
   "cell_type": "code",
   "execution_count": 3,
   "id": "21ec3780",
   "metadata": {},
   "outputs": [],
   "source": [
    "#dropping values with negative ride duration\n",
    "df = df.drop(df[df['started_at'] > df['ended_at']].index)"
   ]
  },
  {
   "cell_type": "code",
   "execution_count": 4,
   "id": "42262e8b",
   "metadata": {},
   "outputs": [
    {
     "data": {
      "text/html": [
       "<div>\n",
       "<style scoped>\n",
       "    .dataframe tbody tr th:only-of-type {\n",
       "        vertical-align: middle;\n",
       "    }\n",
       "\n",
       "    .dataframe tbody tr th {\n",
       "        vertical-align: top;\n",
       "    }\n",
       "\n",
       "    .dataframe thead th {\n",
       "        text-align: right;\n",
       "    }\n",
       "</style>\n",
       "<table border=\"1\" class=\"dataframe\">\n",
       "  <thead>\n",
       "    <tr style=\"text-align: right;\">\n",
       "      <th></th>\n",
       "      <th>Unnamed: 0</th>\n",
       "      <th>ride_id</th>\n",
       "      <th>rideable_type</th>\n",
       "      <th>started_at</th>\n",
       "      <th>ended_at</th>\n",
       "      <th>start_station_name</th>\n",
       "      <th>end_station_name</th>\n",
       "      <th>member_casual</th>\n",
       "      <th>ride_length</th>\n",
       "      <th>weekday</th>\n",
       "    </tr>\n",
       "  </thead>\n",
       "  <tbody>\n",
       "  </tbody>\n",
       "</table>\n",
       "</div>"
      ],
      "text/plain": [
       "Empty DataFrame\n",
       "Columns: [Unnamed: 0, ride_id, rideable_type, started_at, ended_at, start_station_name, end_station_name, member_casual, ride_length, weekday]\n",
       "Index: []"
      ]
     },
     "execution_count": 4,
     "metadata": {},
     "output_type": "execute_result"
    }
   ],
   "source": [
    "#checking values with negative ride duration\n",
    "df[df['started_at']>df['ended_at']]"
   ]
  },
  {
   "cell_type": "code",
   "execution_count": 5,
   "id": "a01e0a94",
   "metadata": {},
   "outputs": [
    {
     "name": "stdout",
     "output_type": "stream",
     "text": [
      "<class 'pandas.core.frame.DataFrame'>\n",
      "Int64Index: 4588242 entries, 0 to 4588301\n",
      "Data columns (total 10 columns):\n",
      " #   Column              Dtype \n",
      "---  ------              ----- \n",
      " 0   Unnamed: 0          int64 \n",
      " 1   ride_id             object\n",
      " 2   rideable_type       object\n",
      " 3   started_at          object\n",
      " 4   ended_at            object\n",
      " 5   start_station_name  object\n",
      " 6   end_station_name    object\n",
      " 7   member_casual       object\n",
      " 8   ride_length         object\n",
      " 9   weekday             int64 \n",
      "dtypes: int64(2), object(8)\n",
      "memory usage: 385.1+ MB\n"
     ]
    }
   ],
   "source": [
    "df.info()"
   ]
  },
  {
   "cell_type": "code",
   "execution_count": 6,
   "id": "528d111c",
   "metadata": {},
   "outputs": [],
   "source": [
    "#dropping unncessary columns\n",
    "df = df.drop(['Unnamed: 0'], axis=1)"
   ]
  },
  {
   "cell_type": "code",
   "execution_count": 7,
   "id": "55864a2f",
   "metadata": {},
   "outputs": [],
   "source": [
    "#usual conversions\n",
    "df['started_at'] = pd.to_datetime(df['started_at'])\n",
    "df['ended_at'] = pd.to_datetime(df['ended_at'])\n",
    "df['ride_length'] = pd.to_timedelta(df['ride_length'])"
   ]
  },
  {
   "cell_type": "code",
   "execution_count": 8,
   "id": "638b33f4",
   "metadata": {},
   "outputs": [
    {
     "name": "stdout",
     "output_type": "stream",
     "text": [
      "<class 'pandas.core.frame.DataFrame'>\n",
      "Int64Index: 4588242 entries, 0 to 4588301\n",
      "Data columns (total 9 columns):\n",
      " #   Column              Dtype          \n",
      "---  ------              -----          \n",
      " 0   ride_id             object         \n",
      " 1   rideable_type       object         \n",
      " 2   started_at          datetime64[ns] \n",
      " 3   ended_at            datetime64[ns] \n",
      " 4   start_station_name  object         \n",
      " 5   end_station_name    object         \n",
      " 6   member_casual       object         \n",
      " 7   ride_length         timedelta64[ns]\n",
      " 8   weekday             int64          \n",
      "dtypes: datetime64[ns](2), int64(1), object(5), timedelta64[ns](1)\n",
      "memory usage: 350.1+ MB\n"
     ]
    }
   ],
   "source": [
    "df.info()"
   ]
  },
  {
   "cell_type": "code",
   "execution_count": 9,
   "id": "f1fd8114",
   "metadata": {},
   "outputs": [
    {
     "data": {
      "text/html": [
       "<div>\n",
       "<style scoped>\n",
       "    .dataframe tbody tr th:only-of-type {\n",
       "        vertical-align: middle;\n",
       "    }\n",
       "\n",
       "    .dataframe tbody tr th {\n",
       "        vertical-align: top;\n",
       "    }\n",
       "\n",
       "    .dataframe thead th {\n",
       "        text-align: right;\n",
       "    }\n",
       "</style>\n",
       "<table border=\"1\" class=\"dataframe\">\n",
       "  <thead>\n",
       "    <tr style=\"text-align: right;\">\n",
       "      <th></th>\n",
       "      <th>ride_id</th>\n",
       "      <th>rideable_type</th>\n",
       "      <th>started_at</th>\n",
       "      <th>ended_at</th>\n",
       "      <th>start_station_name</th>\n",
       "      <th>end_station_name</th>\n",
       "      <th>member_casual</th>\n",
       "      <th>ride_length</th>\n",
       "      <th>weekday</th>\n",
       "    </tr>\n",
       "  </thead>\n",
       "  <tbody>\n",
       "    <tr>\n",
       "      <th>0</th>\n",
       "      <td>0D139A3203274B87</td>\n",
       "      <td>classic_bike</td>\n",
       "      <td>2021-01-01 00:02:00</td>\n",
       "      <td>2021-01-01 00:08:00</td>\n",
       "      <td>State St &amp; 33rd St</td>\n",
       "      <td>MLK Jr Dr &amp; 29th St</td>\n",
       "      <td>member</td>\n",
       "      <td>0 days 00:06:00</td>\n",
       "      <td>4</td>\n",
       "    </tr>\n",
       "    <tr>\n",
       "      <th>1</th>\n",
       "      <td>C7AE8E9CDB197A8E</td>\n",
       "      <td>classic_bike</td>\n",
       "      <td>2021-01-01 00:06:00</td>\n",
       "      <td>2021-01-01 00:26:00</td>\n",
       "      <td>Lakeview Ave &amp; Fullerton Pkwy</td>\n",
       "      <td>Ritchie Ct &amp; Banks St</td>\n",
       "      <td>member</td>\n",
       "      <td>0 days 00:20:00</td>\n",
       "      <td>4</td>\n",
       "    </tr>\n",
       "    <tr>\n",
       "      <th>2</th>\n",
       "      <td>3097EF26414C7016</td>\n",
       "      <td>classic_bike</td>\n",
       "      <td>2021-01-01 00:12:00</td>\n",
       "      <td>2021-01-01 00:12:00</td>\n",
       "      <td>Montrose Harbor</td>\n",
       "      <td>Montrose Harbor</td>\n",
       "      <td>member</td>\n",
       "      <td>0 days 00:00:00</td>\n",
       "      <td>4</td>\n",
       "    </tr>\n",
       "    <tr>\n",
       "      <th>3</th>\n",
       "      <td>938D5D1998A5470E</td>\n",
       "      <td>classic_bike</td>\n",
       "      <td>2021-01-01 00:12:00</td>\n",
       "      <td>2021-01-01 00:12:00</td>\n",
       "      <td>Montrose Harbor</td>\n",
       "      <td>Montrose Harbor</td>\n",
       "      <td>casual</td>\n",
       "      <td>0 days 00:00:00</td>\n",
       "      <td>4</td>\n",
       "    </tr>\n",
       "    <tr>\n",
       "      <th>4</th>\n",
       "      <td>6604F61AE4B14BC1</td>\n",
       "      <td>electric_bike</td>\n",
       "      <td>2021-01-01 00:12:00</td>\n",
       "      <td>2021-01-01 00:43:00</td>\n",
       "      <td>Western Ave &amp; Howard St</td>\n",
       "      <td>Campbell Ave &amp; Fullerton Ave</td>\n",
       "      <td>member</td>\n",
       "      <td>0 days 00:31:00</td>\n",
       "      <td>4</td>\n",
       "    </tr>\n",
       "  </tbody>\n",
       "</table>\n",
       "</div>"
      ],
      "text/plain": [
       "            ride_id  rideable_type          started_at            ended_at  \\\n",
       "0  0D139A3203274B87   classic_bike 2021-01-01 00:02:00 2021-01-01 00:08:00   \n",
       "1  C7AE8E9CDB197A8E   classic_bike 2021-01-01 00:06:00 2021-01-01 00:26:00   \n",
       "2  3097EF26414C7016   classic_bike 2021-01-01 00:12:00 2021-01-01 00:12:00   \n",
       "3  938D5D1998A5470E   classic_bike 2021-01-01 00:12:00 2021-01-01 00:12:00   \n",
       "4  6604F61AE4B14BC1  electric_bike 2021-01-01 00:12:00 2021-01-01 00:43:00   \n",
       "\n",
       "              start_station_name              end_station_name member_casual  \\\n",
       "0             State St & 33rd St           MLK Jr Dr & 29th St        member   \n",
       "1  Lakeview Ave & Fullerton Pkwy         Ritchie Ct & Banks St        member   \n",
       "2                Montrose Harbor               Montrose Harbor        member   \n",
       "3                Montrose Harbor               Montrose Harbor        casual   \n",
       "4        Western Ave & Howard St  Campbell Ave & Fullerton Ave        member   \n",
       "\n",
       "      ride_length  weekday  \n",
       "0 0 days 00:06:00        4  \n",
       "1 0 days 00:20:00        4  \n",
       "2 0 days 00:00:00        4  \n",
       "3 0 days 00:00:00        4  \n",
       "4 0 days 00:31:00        4  "
      ]
     },
     "execution_count": 9,
     "metadata": {},
     "output_type": "execute_result"
    }
   ],
   "source": [
    "df.head()"
   ]
  },
  {
   "cell_type": "code",
   "execution_count": 10,
   "id": "5ef6498c",
   "metadata": {},
   "outputs": [
    {
     "data": {
      "text/html": [
       "<div>\n",
       "<style scoped>\n",
       "    .dataframe tbody tr th:only-of-type {\n",
       "        vertical-align: middle;\n",
       "    }\n",
       "\n",
       "    .dataframe tbody tr th {\n",
       "        vertical-align: top;\n",
       "    }\n",
       "\n",
       "    .dataframe thead th {\n",
       "        text-align: right;\n",
       "    }\n",
       "</style>\n",
       "<table border=\"1\" class=\"dataframe\">\n",
       "  <thead>\n",
       "    <tr style=\"text-align: right;\">\n",
       "      <th></th>\n",
       "      <th>ride_length</th>\n",
       "      <th>weekday</th>\n",
       "    </tr>\n",
       "  </thead>\n",
       "  <tbody>\n",
       "    <tr>\n",
       "      <th>count</th>\n",
       "      <td>4588242</td>\n",
       "      <td>4.588242e+06</td>\n",
       "    </tr>\n",
       "    <tr>\n",
       "      <th>mean</th>\n",
       "      <td>0 days 00:21:48.702287281</td>\n",
       "      <td>3.196890e+00</td>\n",
       "    </tr>\n",
       "    <tr>\n",
       "      <th>std</th>\n",
       "      <td>0 days 03:04:25.592898510</td>\n",
       "      <td>2.003729e+00</td>\n",
       "    </tr>\n",
       "    <tr>\n",
       "      <th>min</th>\n",
       "      <td>0 days 00:00:00</td>\n",
       "      <td>0.000000e+00</td>\n",
       "    </tr>\n",
       "    <tr>\n",
       "      <th>25%</th>\n",
       "      <td>0 days 00:07:00</td>\n",
       "      <td>1.000000e+00</td>\n",
       "    </tr>\n",
       "    <tr>\n",
       "      <th>50%</th>\n",
       "      <td>0 days 00:12:00</td>\n",
       "      <td>3.000000e+00</td>\n",
       "    </tr>\n",
       "    <tr>\n",
       "      <th>75%</th>\n",
       "      <td>0 days 00:22:00</td>\n",
       "      <td>5.000000e+00</td>\n",
       "    </tr>\n",
       "    <tr>\n",
       "      <th>max</th>\n",
       "      <td>38 days 20:24:00</td>\n",
       "      <td>6.000000e+00</td>\n",
       "    </tr>\n",
       "  </tbody>\n",
       "</table>\n",
       "</div>"
      ],
      "text/plain": [
       "                     ride_length       weekday\n",
       "count                    4588242  4.588242e+06\n",
       "mean   0 days 00:21:48.702287281  3.196890e+00\n",
       "std    0 days 03:04:25.592898510  2.003729e+00\n",
       "min              0 days 00:00:00  0.000000e+00\n",
       "25%              0 days 00:07:00  1.000000e+00\n",
       "50%              0 days 00:12:00  3.000000e+00\n",
       "75%              0 days 00:22:00  5.000000e+00\n",
       "max             38 days 20:24:00  6.000000e+00"
      ]
     },
     "execution_count": 10,
     "metadata": {},
     "output_type": "execute_result"
    }
   ],
   "source": [
    "df.describe()"
   ]
  },
  {
   "cell_type": "code",
   "execution_count": 11,
   "id": "f4df9967",
   "metadata": {},
   "outputs": [],
   "source": [
    "#calculating ride length in minutes\n",
    "df['ride_length_in_minutes'] = (df['ride_length'].dt.seconds + df['ride_length'].dt.days * 24 * 3600)/60\n"
   ]
  },
  {
   "cell_type": "code",
   "execution_count": 12,
   "id": "3dad93d8",
   "metadata": {},
   "outputs": [
    {
     "data": {
      "text/html": [
       "<div>\n",
       "<style scoped>\n",
       "    .dataframe tbody tr th:only-of-type {\n",
       "        vertical-align: middle;\n",
       "    }\n",
       "\n",
       "    .dataframe tbody tr th {\n",
       "        vertical-align: top;\n",
       "    }\n",
       "\n",
       "    .dataframe thead th {\n",
       "        text-align: right;\n",
       "    }\n",
       "</style>\n",
       "<table border=\"1\" class=\"dataframe\">\n",
       "  <thead>\n",
       "    <tr style=\"text-align: right;\">\n",
       "      <th></th>\n",
       "      <th>ride_length</th>\n",
       "      <th>weekday</th>\n",
       "      <th>ride_length_in_minutes</th>\n",
       "    </tr>\n",
       "  </thead>\n",
       "  <tbody>\n",
       "    <tr>\n",
       "      <th>count</th>\n",
       "      <td>4588242</td>\n",
       "      <td>4.588242e+06</td>\n",
       "      <td>4.588242e+06</td>\n",
       "    </tr>\n",
       "    <tr>\n",
       "      <th>mean</th>\n",
       "      <td>0 days 00:21:48.702287281</td>\n",
       "      <td>3.196890e+00</td>\n",
       "      <td>2.181170e+01</td>\n",
       "    </tr>\n",
       "    <tr>\n",
       "      <th>std</th>\n",
       "      <td>0 days 03:04:25.592898510</td>\n",
       "      <td>2.003729e+00</td>\n",
       "      <td>1.844265e+02</td>\n",
       "    </tr>\n",
       "    <tr>\n",
       "      <th>min</th>\n",
       "      <td>0 days 00:00:00</td>\n",
       "      <td>0.000000e+00</td>\n",
       "      <td>0.000000e+00</td>\n",
       "    </tr>\n",
       "    <tr>\n",
       "      <th>25%</th>\n",
       "      <td>0 days 00:07:00</td>\n",
       "      <td>1.000000e+00</td>\n",
       "      <td>7.000000e+00</td>\n",
       "    </tr>\n",
       "    <tr>\n",
       "      <th>50%</th>\n",
       "      <td>0 days 00:12:00</td>\n",
       "      <td>3.000000e+00</td>\n",
       "      <td>1.200000e+01</td>\n",
       "    </tr>\n",
       "    <tr>\n",
       "      <th>75%</th>\n",
       "      <td>0 days 00:22:00</td>\n",
       "      <td>5.000000e+00</td>\n",
       "      <td>2.200000e+01</td>\n",
       "    </tr>\n",
       "    <tr>\n",
       "      <th>max</th>\n",
       "      <td>38 days 20:24:00</td>\n",
       "      <td>6.000000e+00</td>\n",
       "      <td>5.594400e+04</td>\n",
       "    </tr>\n",
       "  </tbody>\n",
       "</table>\n",
       "</div>"
      ],
      "text/plain": [
       "                     ride_length       weekday  ride_length_in_minutes\n",
       "count                    4588242  4.588242e+06            4.588242e+06\n",
       "mean   0 days 00:21:48.702287281  3.196890e+00            2.181170e+01\n",
       "std    0 days 03:04:25.592898510  2.003729e+00            1.844265e+02\n",
       "min              0 days 00:00:00  0.000000e+00            0.000000e+00\n",
       "25%              0 days 00:07:00  1.000000e+00            7.000000e+00\n",
       "50%              0 days 00:12:00  3.000000e+00            1.200000e+01\n",
       "75%              0 days 00:22:00  5.000000e+00            2.200000e+01\n",
       "max             38 days 20:24:00  6.000000e+00            5.594400e+04"
      ]
     },
     "execution_count": 12,
     "metadata": {},
     "output_type": "execute_result"
    }
   ],
   "source": [
    "df.describe()"
   ]
  },
  {
   "cell_type": "code",
   "execution_count": 13,
   "id": "c845f72c",
   "metadata": {},
   "outputs": [],
   "source": [
    "#EDA starts\n",
    "mean_ride_length = df['ride_length_in_minutes'].mean()\n",
    "median_ride_length = df['ride_length_in_minutes'].median()\n",
    "mode_weekday = df['weekday'].mode()"
   ]
  },
  {
   "cell_type": "code",
   "execution_count": 14,
   "id": "b95ca76d",
   "metadata": {},
   "outputs": [
    {
     "name": "stdout",
     "output_type": "stream",
     "text": [
      "21.811704788021206\n",
      "12.0\n",
      "0    5\n",
      "dtype: int64\n"
     ]
    }
   ],
   "source": [
    "print(mean_ride_length)\n",
    "print(median_ride_length)\n",
    "print(mode_weekday)"
   ]
  },
  {
   "cell_type": "markdown",
   "id": "7d4643da",
   "metadata": {},
   "source": [
    "Weekdays notation:\n",
    "0: Monday\n",
    "1: Tuesday\n",
    "2: Wednesday\n",
    "3: Thursday\n",
    "4: Friday\n",
    "5: Saturday\n",
    "6: Sunday\n",
    "\n",
    "People tend to ride most in Saturday.\n",
    "\n",
    "There is a noticeable amount of variation in median and mean of ride lengths indicating that riding lengths vary quite significantly. Riding patterns of people in terms of duration vary."
   ]
  },
  {
   "cell_type": "code",
   "execution_count": 15,
   "id": "11fa1af0",
   "metadata": {},
   "outputs": [
    {
     "data": {
      "text/html": [
       "<div>\n",
       "<style scoped>\n",
       "    .dataframe tbody tr th:only-of-type {\n",
       "        vertical-align: middle;\n",
       "    }\n",
       "\n",
       "    .dataframe tbody tr th {\n",
       "        vertical-align: top;\n",
       "    }\n",
       "\n",
       "    .dataframe thead th {\n",
       "        text-align: right;\n",
       "    }\n",
       "</style>\n",
       "<table border=\"1\" class=\"dataframe\">\n",
       "  <thead>\n",
       "    <tr style=\"text-align: right;\">\n",
       "      <th></th>\n",
       "      <th>ride_id</th>\n",
       "      <th>rideable_type</th>\n",
       "      <th>started_at</th>\n",
       "      <th>ended_at</th>\n",
       "      <th>start_station_name</th>\n",
       "      <th>end_station_name</th>\n",
       "      <th>member_casual</th>\n",
       "      <th>ride_length</th>\n",
       "      <th>weekday</th>\n",
       "      <th>ride_length_in_minutes</th>\n",
       "    </tr>\n",
       "  </thead>\n",
       "  <tbody>\n",
       "    <tr>\n",
       "      <th>1157578</th>\n",
       "      <td>F043F0F6A1AA4F85</td>\n",
       "      <td>docked_bike</td>\n",
       "      <td>2021-06-05 02:27:00</td>\n",
       "      <td>2021-07-13 22:51:00</td>\n",
       "      <td>Michigan Ave &amp; Lake St</td>\n",
       "      <td>Malcolm X College Vaccination Site</td>\n",
       "      <td>casual</td>\n",
       "      <td>38 days 20:24:00</td>\n",
       "      <td>5</td>\n",
       "      <td>55944.0</td>\n",
       "    </tr>\n",
       "  </tbody>\n",
       "</table>\n",
       "</div>"
      ],
      "text/plain": [
       "                  ride_id rideable_type          started_at  \\\n",
       "1157578  F043F0F6A1AA4F85   docked_bike 2021-06-05 02:27:00   \n",
       "\n",
       "                   ended_at      start_station_name  \\\n",
       "1157578 2021-07-13 22:51:00  Michigan Ave & Lake St   \n",
       "\n",
       "                           end_station_name member_casual      ride_length  \\\n",
       "1157578  Malcolm X College Vaccination Site        casual 38 days 20:24:00   \n",
       "\n",
       "         weekday  ride_length_in_minutes  \n",
       "1157578        5                 55944.0  "
      ]
     },
     "execution_count": 15,
     "metadata": {},
     "output_type": "execute_result"
    }
   ],
   "source": [
    "#Max ride length\n",
    "df[df['ride_length'] == df['ride_length'].max()]"
   ]
  },
  {
   "cell_type": "markdown",
   "id": "ccaf2cd8",
   "metadata": {},
   "source": [
    "Maximum ride length of 38 days is quite astonishing. It may be due to the fact that bicycle might be possesed for this much of time and returned to end station after 38 days. This is surprising usage for a bike sharing system. It may be due to some error in recording data. The first reason for possessing the cycle for so long is assumed."
   ]
  },
  {
   "cell_type": "code",
   "execution_count": 16,
   "id": "1dc5094a",
   "metadata": {},
   "outputs": [],
   "source": [
    "import seaborn as sns"
   ]
  },
  {
   "cell_type": "code",
   "execution_count": 17,
   "id": "29b5ffce",
   "metadata": {},
   "outputs": [
    {
     "name": "stderr",
     "output_type": "stream",
     "text": [
      "C:\\ProgramData\\Anaconda3\\lib\\site-packages\\seaborn\\distributions.py:2619: FutureWarning: `distplot` is a deprecated function and will be removed in a future version. Please adapt your code to use either `displot` (a figure-level function with similar flexibility) or `histplot` (an axes-level function for histograms).\n",
      "  warnings.warn(msg, FutureWarning)\n"
     ]
    },
    {
     "data": {
      "text/plain": [
       "<AxesSubplot:xlabel='weekday'>"
      ]
     },
     "execution_count": 17,
     "metadata": {},
     "output_type": "execute_result"
    },
    {
     "data": {
      "image/png": "[encoded data removed]",
      "text/plain": [
       "<Figure size 432x288 with 1 Axes>"
      ]
     },
     "metadata": {},
     "output_type": "display_data"
    }
   ],
   "source": [
    "sns.set_style('whitegrid')\n",
    "sns.distplot(df['weekday'], kde = False, color ='red', bins = 30)"
   ]
  },
  {
   "cell_type": "markdown",
   "id": "662d6984",
   "metadata": {},
   "source": [
    "Just testing the graphs. All the plots will be made by using Tableau as it is simply better at this job."
   ]
  },
  {
   "cell_type": "code",
   "execution_count": 18,
   "id": "07e7ce7f",
   "metadata": {},
   "outputs": [
    {
     "data": {
      "text/plain": [
       "Timedelta('0 days 00:13:11.036092930')"
      ]
     },
     "execution_count": 18,
     "metadata": {},
     "output_type": "execute_result"
    }
   ],
   "source": [
    "#Mean ride length for members\n",
    "df[df['member_casual']=='member'].ride_length.mean()"
   ]
  },
  {
   "cell_type": "code",
   "execution_count": 19,
   "id": "ae0fb60d",
   "metadata": {},
   "outputs": [
    {
     "data": {
      "text/plain": [
       "Timedelta('0 days 00:32:30.590435051')"
      ]
     },
     "execution_count": 19,
     "metadata": {},
     "output_type": "execute_result"
    }
   ],
   "source": [
    "#Mean ride length for casuals\n",
    "df[df['member_casual']=='casual'].ride_length.mean()"
   ]
  },
  {
   "cell_type": "markdown",
   "id": "370fbed5",
   "metadata": {},
   "source": [
    "Casuals are riding way longer than members. While casuals may ride for longer distances (vacations) and hence increased trip duration. For members, the usage is typically limited to shorter distances. Members use this for daily trips (office/university to home) and this explains the increased time difference."
   ]
  },
  {
   "cell_type": "code",
   "execution_count": 20,
   "id": "84fef67e",
   "metadata": {},
   "outputs": [
    {
     "data": {
      "text/plain": [
       "Timedelta('0 days 00:10:00')"
      ]
     },
     "execution_count": 20,
     "metadata": {},
     "output_type": "execute_result"
    }
   ],
   "source": [
    "#Median_members\n",
    "df[df['member_casual']=='member'].ride_length.median()"
   ]
  },
  {
   "cell_type": "code",
   "execution_count": 21,
   "id": "9e748cec",
   "metadata": {},
   "outputs": [
    {
     "data": {
      "text/plain": [
       "Timedelta('0 days 00:17:00')"
      ]
     },
     "execution_count": 21,
     "metadata": {},
     "output_type": "execute_result"
    }
   ],
   "source": [
    "#Median_casuals\n",
    "df[df['member_casual']=='casual'].ride_length.median()"
   ]
  },
  {
   "cell_type": "markdown",
   "id": "e7bbcbaf",
   "metadata": {},
   "source": [
    "Median also tells the same story"
   ]
  },
  {
   "cell_type": "code",
   "execution_count": 22,
   "id": "05fb7aca",
   "metadata": {},
   "outputs": [],
   "source": [
    "#Grouping data by weekdays\n",
    "df2 = df.groupby('weekday')"
   ]
  },
  {
   "cell_type": "code",
   "execution_count": 23,
   "id": "19f78b87",
   "metadata": {},
   "outputs": [
    {
     "data": {
      "text/html": [
       "<div>\n",
       "<style scoped>\n",
       "    .dataframe tbody tr th:only-of-type {\n",
       "        vertical-align: middle;\n",
       "    }\n",
       "\n",
       "    .dataframe tbody tr th {\n",
       "        vertical-align: top;\n",
       "    }\n",
       "\n",
       "    .dataframe thead th {\n",
       "        text-align: right;\n",
       "    }\n",
       "</style>\n",
       "<table border=\"1\" class=\"dataframe\">\n",
       "  <thead>\n",
       "    <tr style=\"text-align: right;\">\n",
       "      <th></th>\n",
       "      <th>ride_id</th>\n",
       "      <th>rideable_type</th>\n",
       "      <th>started_at</th>\n",
       "      <th>ended_at</th>\n",
       "      <th>start_station_name</th>\n",
       "      <th>end_station_name</th>\n",
       "      <th>member_casual</th>\n",
       "      <th>ride_length</th>\n",
       "      <th>ride_length_in_minutes</th>\n",
       "    </tr>\n",
       "    <tr>\n",
       "      <th>weekday</th>\n",
       "      <th></th>\n",
       "      <th></th>\n",
       "      <th></th>\n",
       "      <th></th>\n",
       "      <th></th>\n",
       "      <th></th>\n",
       "      <th></th>\n",
       "      <th></th>\n",
       "      <th></th>\n",
       "    </tr>\n",
       "  </thead>\n",
       "  <tbody>\n",
       "    <tr>\n",
       "      <th>0</th>\n",
       "      <td>93747823B2BF7271</td>\n",
       "      <td>classic_bike</td>\n",
       "      <td>2021-01-04 00:01:00</td>\n",
       "      <td>2021-01-04 00:05:00</td>\n",
       "      <td>State St &amp; 33rd St</td>\n",
       "      <td>Calumet Ave &amp; 33rd St</td>\n",
       "      <td>member</td>\n",
       "      <td>0 days 00:04:00</td>\n",
       "      <td>4.0</td>\n",
       "    </tr>\n",
       "    <tr>\n",
       "      <th>1</th>\n",
       "      <td>7F4C42277135AC5A</td>\n",
       "      <td>classic_bike</td>\n",
       "      <td>2021-01-05 00:02:00</td>\n",
       "      <td>2021-01-05 00:06:00</td>\n",
       "      <td>State St &amp; 33rd St</td>\n",
       "      <td>Calumet Ave &amp; 33rd St</td>\n",
       "      <td>member</td>\n",
       "      <td>0 days 00:04:00</td>\n",
       "      <td>4.0</td>\n",
       "    </tr>\n",
       "    <tr>\n",
       "      <th>2</th>\n",
       "      <td>BCDE7223D15C9E23</td>\n",
       "      <td>classic_bike</td>\n",
       "      <td>2021-01-06 00:00:00</td>\n",
       "      <td>2021-01-06 00:13:00</td>\n",
       "      <td>Sheffield Ave &amp; Webster Ave</td>\n",
       "      <td>Clark St &amp; Newport St</td>\n",
       "      <td>member</td>\n",
       "      <td>0 days 00:13:00</td>\n",
       "      <td>13.0</td>\n",
       "    </tr>\n",
       "    <tr>\n",
       "      <th>3</th>\n",
       "      <td>5C5DD0105CF98E3E</td>\n",
       "      <td>classic_bike</td>\n",
       "      <td>2021-01-07 00:00:00</td>\n",
       "      <td>2021-01-07 00:19:00</td>\n",
       "      <td>Canal St &amp; Harrison St</td>\n",
       "      <td>Canal St &amp; Harrison St</td>\n",
       "      <td>casual</td>\n",
       "      <td>0 days 00:19:00</td>\n",
       "      <td>19.0</td>\n",
       "    </tr>\n",
       "    <tr>\n",
       "      <th>4</th>\n",
       "      <td>0D139A3203274B87</td>\n",
       "      <td>classic_bike</td>\n",
       "      <td>2021-01-01 00:02:00</td>\n",
       "      <td>2021-01-01 00:08:00</td>\n",
       "      <td>State St &amp; 33rd St</td>\n",
       "      <td>MLK Jr Dr &amp; 29th St</td>\n",
       "      <td>member</td>\n",
       "      <td>0 days 00:06:00</td>\n",
       "      <td>6.0</td>\n",
       "    </tr>\n",
       "    <tr>\n",
       "      <th>5</th>\n",
       "      <td>F1942C45211ABDBE</td>\n",
       "      <td>classic_bike</td>\n",
       "      <td>2021-01-02 00:00:00</td>\n",
       "      <td>2021-01-02 00:04:00</td>\n",
       "      <td>State St &amp; 33rd St</td>\n",
       "      <td>Calumet Ave &amp; 33rd St</td>\n",
       "      <td>member</td>\n",
       "      <td>0 days 00:04:00</td>\n",
       "      <td>4.0</td>\n",
       "    </tr>\n",
       "    <tr>\n",
       "      <th>6</th>\n",
       "      <td>AE88F7E989D55FC9</td>\n",
       "      <td>electric_bike</td>\n",
       "      <td>2021-01-03 00:00:00</td>\n",
       "      <td>2021-01-03 00:16:00</td>\n",
       "      <td>Winthrop Ave &amp; Lawrence Ave</td>\n",
       "      <td>Winthrop Ave &amp; Lawrence Ave</td>\n",
       "      <td>casual</td>\n",
       "      <td>0 days 00:16:00</td>\n",
       "      <td>16.0</td>\n",
       "    </tr>\n",
       "  </tbody>\n",
       "</table>\n",
       "</div>"
      ],
      "text/plain": [
       "                  ride_id  rideable_type          started_at  \\\n",
       "weekday                                                        \n",
       "0        93747823B2BF7271   classic_bike 2021-01-04 00:01:00   \n",
       "1        7F4C42277135AC5A   classic_bike 2021-01-05 00:02:00   \n",
       "2        BCDE7223D15C9E23   classic_bike 2021-01-06 00:00:00   \n",
       "3        5C5DD0105CF98E3E   classic_bike 2021-01-07 00:00:00   \n",
       "4        0D139A3203274B87   classic_bike 2021-01-01 00:02:00   \n",
       "5        F1942C45211ABDBE   classic_bike 2021-01-02 00:00:00   \n",
       "6        AE88F7E989D55FC9  electric_bike 2021-01-03 00:00:00   \n",
       "\n",
       "                   ended_at           start_station_name  \\\n",
       "weekday                                                    \n",
       "0       2021-01-04 00:05:00           State St & 33rd St   \n",
       "1       2021-01-05 00:06:00           State St & 33rd St   \n",
       "2       2021-01-06 00:13:00  Sheffield Ave & Webster Ave   \n",
       "3       2021-01-07 00:19:00       Canal St & Harrison St   \n",
       "4       2021-01-01 00:08:00           State St & 33rd St   \n",
       "5       2021-01-02 00:04:00           State St & 33rd St   \n",
       "6       2021-01-03 00:16:00  Winthrop Ave & Lawrence Ave   \n",
       "\n",
       "                    end_station_name member_casual     ride_length  \\\n",
       "weekday                                                              \n",
       "0              Calumet Ave & 33rd St        member 0 days 00:04:00   \n",
       "1              Calumet Ave & 33rd St        member 0 days 00:04:00   \n",
       "2              Clark St & Newport St        member 0 days 00:13:00   \n",
       "3             Canal St & Harrison St        casual 0 days 00:19:00   \n",
       "4                MLK Jr Dr & 29th St        member 0 days 00:06:00   \n",
       "5              Calumet Ave & 33rd St        member 0 days 00:04:00   \n",
       "6        Winthrop Ave & Lawrence Ave        casual 0 days 00:16:00   \n",
       "\n",
       "         ride_length_in_minutes  \n",
       "weekday                          \n",
       "0                           4.0  \n",
       "1                           4.0  \n",
       "2                          13.0  \n",
       "3                          19.0  \n",
       "4                           6.0  \n",
       "5                           4.0  \n",
       "6                          16.0  "
      ]
     },
     "execution_count": 23,
     "metadata": {},
     "output_type": "execute_result"
    }
   ],
   "source": [
    "df2.first()"
   ]
  },
  {
   "cell_type": "code",
   "execution_count": 24,
   "id": "41f3a744",
   "metadata": {},
   "outputs": [
    {
     "data": {
      "text/plain": [
       "weekday  member_casual\n",
       "0        casual          0 days 00:32:38.133190061\n",
       "         member          0 days 00:12:43.493973817\n",
       "1        casual          0 days 00:28:48.200208434\n",
       "         member          0 days 00:12:23.257551554\n",
       "2        casual          0 days 00:28:16.310524723\n",
       "         member          0 days 00:12:27.506952371\n",
       "3        casual          0 days 00:28:00.670897875\n",
       "         member          0 days 00:12:21.206673574\n",
       "4        casual          0 days 00:30:55.124154432\n",
       "         member          0 days 00:12:47.549243408\n",
       "5        casual          0 days 00:34:52.331945423\n",
       "         member          0 days 00:14:49.178421702\n",
       "6        casual          0 days 00:37:36.124615807\n",
       "         member          0 days 00:15:11.706846859\n",
       "Name: ride_length, dtype: timedelta64[ns]"
      ]
     },
     "execution_count": 24,
     "metadata": {},
     "output_type": "execute_result"
    }
   ],
   "source": [
    "#Mean ride lengths by weekdays for casual and members\n",
    "df.groupby(['weekday','member_casual']).ride_length.mean()"
   ]
  },
  {
   "cell_type": "markdown",
   "id": "334b8dff",
   "metadata": {},
   "source": [
    "People tend to ride for more durations during weekends"
   ]
  },
  {
   "cell_type": "code",
   "execution_count": 25,
   "id": "2fecc5be",
   "metadata": {},
   "outputs": [
    {
     "data": {
      "text/plain": [
       "weekday  member_casual\n",
       "0        casual          0 days 00:17:00\n",
       "         member          0 days 00:09:00\n",
       "1        casual          0 days 00:15:00\n",
       "         member          0 days 00:09:00\n",
       "2        casual          0 days 00:14:00\n",
       "         member          0 days 00:09:00\n",
       "3        casual          0 days 00:14:00\n",
       "         member          0 days 00:09:00\n",
       "4        casual          0 days 00:16:00\n",
       "         member          0 days 00:10:00\n",
       "5        casual          0 days 00:19:00\n",
       "         member          0 days 00:11:00\n",
       "6        casual          0 days 00:20:00\n",
       "         member          0 days 00:11:00\n",
       "Name: ride_length, dtype: timedelta64[ns]"
      ]
     },
     "execution_count": 25,
     "metadata": {},
     "output_type": "execute_result"
    }
   ],
   "source": [
    "#Median\n",
    "df.groupby(['weekday','member_casual']).ride_length.median()"
   ]
  },
  {
   "cell_type": "code",
   "execution_count": 26,
   "id": "69b336bd",
   "metadata": {},
   "outputs": [
    {
     "data": {
      "text/plain": [
       "weekday\n",
       "0    575424\n",
       "1    603068\n",
       "2    615840\n",
       "3    597680\n",
       "4    655827\n",
       "5    825411\n",
       "6    714992\n",
       "Name: ride_id, dtype: int64"
      ]
     },
     "execution_count": 26,
     "metadata": {},
     "output_type": "execute_result"
    }
   ],
   "source": [
    "#no. of trips per day for member and casual\n",
    "\n",
    "df.groupby(['weekday']).ride_id.count()"
   ]
  },
  {
   "cell_type": "markdown",
   "id": "acbc2597",
   "metadata": {},
   "source": [
    "People tend to ride more during weekends"
   ]
  },
  {
   "cell_type": "code",
   "execution_count": 27,
   "id": "779115ba",
   "metadata": {},
   "outputs": [],
   "source": [
    "#extracting months\n",
    "df['month'] = pd.DatetimeIndex(df['started_at']).month"
   ]
  },
  {
   "cell_type": "code",
   "execution_count": 28,
   "id": "13a2f515",
   "metadata": {},
   "outputs": [
    {
     "data": {
      "text/plain": [
       "month\n",
       "1      83509\n",
       "2      42996\n",
       "3     205691\n",
       "4     298207\n",
       "5     450993\n",
       "6     608777\n",
       "7     692321\n",
       "8     674403\n",
       "9     621135\n",
       "10    477972\n",
       "11    255867\n",
       "12    176371\n",
       "Name: ride_id, dtype: int64"
      ]
     },
     "execution_count": 28,
     "metadata": {},
     "output_type": "execute_result"
    }
   ],
   "source": [
    "#grouping data by months\n",
    "df.groupby(['month']).ride_id.count()"
   ]
  },
  {
   "cell_type": "markdown",
   "id": "e2953aca",
   "metadata": {},
   "source": [
    "During cold months, people tend to ride less as compared to warm months"
   ]
  },
  {
   "cell_type": "code",
   "execution_count": 29,
   "id": "08196772",
   "metadata": {},
   "outputs": [
    {
     "data": {
      "text/plain": [
       "month  member_casual\n",
       "1      casual            14690\n",
       "       member            68819\n",
       "2      casual             8613\n",
       "       member            34383\n",
       "3      casual            75642\n",
       "       member           130049\n",
       "4      casual           120420\n",
       "       member           177787\n",
       "5      casual           216829\n",
       "       member           234164\n",
       "6      casual           304191\n",
       "       member           304586\n",
       "7      casual           369415\n",
       "       member           322906\n",
       "8      casual           341473\n",
       "       member           332930\n",
       "9      casual           292930\n",
       "       member           328205\n",
       "10     casual           189117\n",
       "       member           288855\n",
       "11     casual            69958\n",
       "       member           185909\n",
       "12     casual            45076\n",
       "       member           131295\n",
       "Name: ride_id, dtype: int64"
      ]
     },
     "execution_count": 29,
     "metadata": {},
     "output_type": "execute_result"
    }
   ],
   "source": [
    "#no. of trips by months for casual and members\n",
    "df.groupby(['month','member_casual']).ride_id.count()"
   ]
  },
  {
   "cell_type": "markdown",
   "id": "3fc6445d",
   "metadata": {},
   "source": [
    "The disparity in ride numbers between casuals and members is seen during cold months. In warm months, very minimal disparity is shown."
   ]
  },
  {
   "cell_type": "code",
   "execution_count": 30,
   "id": "22332cab",
   "metadata": {},
   "outputs": [
    {
     "data": {
      "text/plain": [
       "rideable_type  member_casual\n",
       "classic_bike   casual           1261546\n",
       "               member           1980405\n",
       "docked_bike    casual            312043\n",
       "               member                 1\n",
       "electric_bike  casual            474765\n",
       "               member            559482\n",
       "Name: ride_id, dtype: int64"
      ]
     },
     "execution_count": 30,
     "metadata": {},
     "output_type": "execute_result"
    }
   ],
   "source": [
    "#no. of rides per category for casual and members\n",
    "df.groupby(['rideable_type','member_casual']).ride_id.count()"
   ]
  },
  {
   "cell_type": "markdown",
   "id": "adadaabe",
   "metadata": {},
   "source": [
    "Most preffered type of bike is classical bike among both casuals and members.\n",
    "Least preffered is docked bike."
   ]
  },
  {
   "cell_type": "code",
   "execution_count": 33,
   "id": "7622d18c",
   "metadata": {},
   "outputs": [],
   "source": [
    "df['Hour'] = df['started_at'].dt.hour"
   ]
  },
  {
   "cell_type": "code",
   "execution_count": 35,
   "id": "177a887d",
   "metadata": {},
   "outputs": [
    {
     "data": {
      "text/plain": [
       "Hour\n",
       "0      67558\n",
       "1      47030\n",
       "2      28558\n",
       "3      15325\n",
       "4      12684\n",
       "5      34395\n",
       "6      91043\n",
       "7     166400\n",
       "8     199296\n",
       "9     169124\n",
       "10    190770\n",
       "11    239391\n",
       "12    280438\n",
       "13    286437\n",
       "14    288319\n",
       "15    318365\n",
       "16    384657\n",
       "17    469631\n",
       "18    404630\n",
       "19    296212\n",
       "20    204309\n",
       "21    159984\n",
       "22    134991\n",
       "23     98695\n",
       "Name: ride_id, dtype: int64"
      ]
     },
     "execution_count": 35,
     "metadata": {},
     "output_type": "execute_result"
    }
   ],
   "source": [
    "df.groupby(['Hour']).ride_id.count()"
   ]
  },
  {
   "cell_type": "code",
   "execution_count": 36,
   "id": "ca66c8a5",
   "metadata": {},
   "outputs": [
    {
     "name": "stdout",
     "output_type": "stream",
     "text": [
      "<class 'pandas.core.frame.DataFrame'>\n",
      "Int64Index: 4588242 entries, 0 to 4588301\n",
      "Data columns (total 12 columns):\n",
      " #   Column                  Dtype          \n",
      "---  ------                  -----          \n",
      " 0   ride_id                 object         \n",
      " 1   rideable_type           object         \n",
      " 2   started_at              datetime64[ns] \n",
      " 3   ended_at                datetime64[ns] \n",
      " 4   start_station_name      object         \n",
      " 5   end_station_name        object         \n",
      " 6   member_casual           object         \n",
      " 7   ride_length             timedelta64[ns]\n",
      " 8   weekday                 int64          \n",
      " 9   ride_length_in_minutes  float64        \n",
      " 10  month                   int64          \n",
      " 11  Hour                    int64          \n",
      "dtypes: datetime64[ns](2), float64(1), int64(3), object(5), timedelta64[ns](1)\n",
      "memory usage: 455.1+ MB\n"
     ]
    }
   ],
   "source": [
    "df.info()"
   ]
  },
  {
   "cell_type": "code",
   "execution_count": 37,
   "id": "86a3f6bf",
   "metadata": {},
   "outputs": [],
   "source": [
    "#finalized data for tableau visualization\n",
    "df.to_csv('Finalized.csv')\n"
   ]
  },
  {
   "cell_type": "code",
   "execution_count": null,
   "id": "2d331873",
   "metadata": {},
   "outputs": [],
   "source": []
  }
 ],
 "metadata": {
  "kernelspec": {
   "display_name": "Python 3 (ipykernel)",
   "language": "python",
   "name": "python3"
  },
  "language_info": {
   "codemirror_mode": {
    "name": "ipython",
    "version": 3
   },
   "file_extension": ".py",
   "mimetype": "text/x-python",
   "name": "python",
   "nbconvert_exporter": "python",
   "pygments_lexer": "ipython3",
   "version": "3.9.7"
  }
 },
 "nbformat": 4,
 "nbformat_minor": 5
}
